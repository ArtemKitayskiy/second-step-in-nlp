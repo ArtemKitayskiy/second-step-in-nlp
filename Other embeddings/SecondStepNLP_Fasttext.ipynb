{
 "cells": [
  {
   "cell_type": "markdown",
   "id": "2030c77d",
   "metadata": {
    "id": "2030c77d"
   },
   "source": [
    "# Классификация текстов\n",
    "\n",
    "В этом ноутбуке мы разберем задачу классификации текстов на примере соревнования по выявлению токсичных твиттов: https://www.kaggle.com/competitions/toxic-comments-classification-2\n",
    "\n",
    "Наша задача - построить классификатор, который по тексту твитта определяет, токсичный он или нет.\n",
    "\n",
    "__План:__\n",
    "1. Разбираем/освежаем в памяти простые бейзлайны: мешок слов, TF-IDF. \n",
    "2. Обучаем классификатор на основе w2v эмбеддингов\n",
    "3. Знакомимся с моделью fastText"
   ]
  },
  {
   "cell_type": "code",
   "execution_count": 9,
   "id": "9030c990",
   "metadata": {
    "executionInfo": {
     "elapsed": 4,
     "status": "ok",
     "timestamp": 1677944106933,
     "user": {
      "displayName": "Kuroles",
      "userId": "00026309423615117208"
     },
     "user_tz": -180
    },
    "id": "9030c990"
   },
   "outputs": [],
   "source": [
    "import pandas as pd\n",
    "import numpy as np\n",
    "\n",
    "from sklearn.model_selection import train_test_split\n",
    "from sklearn.metrics import *"
   ]
  },
  {
   "cell_type": "markdown",
   "id": "75679484",
   "metadata": {
    "id": "75679484"
   },
   "source": [
    "Обучающая выборка и тестовые данные для предикта - их можно скачать с Kaggle."
   ]
  },
  {
   "cell_type": "code",
   "execution_count": 10,
   "id": "f20b688e",
   "metadata": {
    "executionInfo": {
     "elapsed": 576,
     "status": "ok",
     "timestamp": 1677944152275,
     "user": {
      "displayName": "Kuroles",
      "userId": "00026309423615117208"
     },
     "user_tz": -180
    },
    "id": "f20b688e"
   },
   "outputs": [],
   "source": [
    "train = pd.read_csv('train_data.csv')\n",
    "test = pd.read_csv('test_data.csv')"
   ]
  },
  {
   "cell_type": "code",
   "execution_count": 11,
   "id": "2a1821de",
   "metadata": {
    "colab": {
     "base_uri": "https://localhost:8080/",
     "height": 143
    },
    "executionInfo": {
     "elapsed": 4,
     "status": "ok",
     "timestamp": 1677944153350,
     "user": {
      "displayName": "Kuroles",
      "userId": "00026309423615117208"
     },
     "user_tz": -180
    },
    "id": "2a1821de",
    "outputId": "5f1482c4-e902-45af-954f-5b9d09b6407e"
   },
   "outputs": [
    {
     "data": {
      "text/html": [
       "<div>\n",
       "<style scoped>\n",
       "    .dataframe tbody tr th:only-of-type {\n",
       "        vertical-align: middle;\n",
       "    }\n",
       "\n",
       "    .dataframe tbody tr th {\n",
       "        vertical-align: top;\n",
       "    }\n",
       "\n",
       "    .dataframe thead th {\n",
       "        text-align: right;\n",
       "    }\n",
       "</style>\n",
       "<table border=\"1\" class=\"dataframe\">\n",
       "  <thead>\n",
       "    <tr style=\"text-align: right;\">\n",
       "      <th></th>\n",
       "      <th>comment</th>\n",
       "      <th>toxic</th>\n",
       "    </tr>\n",
       "  </thead>\n",
       "  <tbody>\n",
       "    <tr>\n",
       "      <th>10547</th>\n",
       "      <td>Я почему-то прочитал из Морровинда)\\n</td>\n",
       "      <td>0.0</td>\n",
       "    </tr>\n",
       "    <tr>\n",
       "      <th>3466</th>\n",
       "      <td>Такая же фигня , утром в 08:00 с зарядки снима...</td>\n",
       "      <td>0.0</td>\n",
       "    </tr>\n",
       "    <tr>\n",
       "      <th>945</th>\n",
       "      <td>- А где Вы живёте? - За чертой бедности! ost в...</td>\n",
       "      <td>1.0</td>\n",
       "    </tr>\n",
       "  </tbody>\n",
       "</table>\n",
       "</div>"
      ],
      "text/plain": [
       "                                                 comment  toxic\n",
       "10547              Я почему-то прочитал из Морровинда)\\n    0.0\n",
       "3466   Такая же фигня , утром в 08:00 с зарядки снима...    0.0\n",
       "945    - А где Вы живёте? - За чертой бедности! ost в...    1.0"
      ]
     },
     "execution_count": 11,
     "metadata": {},
     "output_type": "execute_result"
    }
   ],
   "source": [
    "train.sample(3)"
   ]
  },
  {
   "cell_type": "code",
   "execution_count": 12,
   "id": "7207ccc9",
   "metadata": {
    "colab": {
     "base_uri": "https://localhost:8080/",
     "height": 81
    },
    "executionInfo": {
     "elapsed": 268,
     "status": "ok",
     "timestamp": 1677944155270,
     "user": {
      "displayName": "Kuroles",
      "userId": "00026309423615117208"
     },
     "user_tz": -180
    },
    "id": "7207ccc9",
    "outputId": "8ad58855-95cb-4634-cfe5-6fe8180df771"
   },
   "outputs": [
    {
     "data": {
      "text/html": [
       "<div>\n",
       "<style scoped>\n",
       "    .dataframe tbody tr th:only-of-type {\n",
       "        vertical-align: middle;\n",
       "    }\n",
       "\n",
       "    .dataframe tbody tr th {\n",
       "        vertical-align: top;\n",
       "    }\n",
       "\n",
       "    .dataframe thead th {\n",
       "        text-align: right;\n",
       "    }\n",
       "</style>\n",
       "<table border=\"1\" class=\"dataframe\">\n",
       "  <thead>\n",
       "    <tr style=\"text-align: right;\">\n",
       "      <th></th>\n",
       "      <th>comment_id</th>\n",
       "      <th>comment</th>\n",
       "    </tr>\n",
       "  </thead>\n",
       "  <tbody>\n",
       "    <tr>\n",
       "      <th>2219</th>\n",
       "      <td>2219</td>\n",
       "      <td>Я тоже немного удивлён, её доля в наследстве 5...</td>\n",
       "    </tr>\n",
       "  </tbody>\n",
       "</table>\n",
       "</div>"
      ],
      "text/plain": [
       "      comment_id                                            comment\n",
       "2219        2219  Я тоже немного удивлён, её доля в наследстве 5..."
      ]
     },
     "execution_count": 12,
     "metadata": {},
     "output_type": "execute_result"
    }
   ],
   "source": [
    "test.sample()"
   ]
  },
  {
   "cell_type": "code",
   "execution_count": 13,
   "id": "04f82cdf",
   "metadata": {
    "id": "04f82cdf"
   },
   "outputs": [],
   "source": [
    "# y_test = pd.read_csv('test_labels.csv')"
   ]
  },
  {
   "cell_type": "markdown",
   "id": "4d26ea8d",
   "metadata": {
    "id": "4d26ea8d"
   },
   "source": [
    "В моем распоряжении также есть файл с тестовыми метками классов - если Вы запускаете ноутбук и хотите обучить модель, разбейте train выборку на train и test, раскомментировав строчки кода в ячейке ниже:"
   ]
  },
  {
   "cell_type": "code",
   "execution_count": 14,
   "id": "c049a727",
   "metadata": {
    "executionInfo": {
     "elapsed": 256,
     "status": "ok",
     "timestamp": 1677944157675,
     "user": {
      "displayName": "Kuroles",
      "userId": "00026309423615117208"
     },
     "user_tz": -180
    },
    "id": "c049a727"
   },
   "outputs": [],
   "source": [
    "train, test = train_test_split(train, test_size=0.3, random_state=1)\n",
    "y_test = test['toxic']\n",
    "test.drop(columns=['toxic'], inplace=True)"
   ]
  },
  {
   "cell_type": "code",
   "execution_count": 15,
   "id": "60db0a26",
   "metadata": {
    "colab": {
     "base_uri": "https://localhost:8080/"
    },
    "executionInfo": {
     "elapsed": 2,
     "status": "ok",
     "timestamp": 1677944159211,
     "user": {
      "displayName": "Kuroles",
      "userId": "00026309423615117208"
     },
     "user_tz": -180
    },
    "id": "60db0a26",
    "outputId": "81dbf88a-8643-4a31-f426-815cfffda674"
   },
   "outputs": [
    {
     "data": {
      "text/plain": [
       "6490    0.0\n",
       "Name: toxic, dtype: float64"
      ]
     },
     "execution_count": 15,
     "metadata": {},
     "output_type": "execute_result"
    }
   ],
   "source": [
    "y_test.sample()"
   ]
  },
  {
   "cell_type": "markdown",
   "id": "e02e2872",
   "metadata": {
    "id": "e02e2872"
   },
   "source": [
    "### Мы начнем с простых бейзлайнов\n",
    "\n",
    "Это всегда хорошая практика - сперва попробовать что-то предельно простое (: В нашем случае это будет логистическая регрессия + мешок слов (Bag of Words, BoW)."
   ]
  },
  {
   "cell_type": "code",
   "execution_count": 16,
   "id": "27a39c66",
   "metadata": {
    "executionInfo": {
     "elapsed": 587,
     "status": "ok",
     "timestamp": 1677944162409,
     "user": {
      "displayName": "Kuroles",
      "userId": "00026309423615117208"
     },
     "user_tz": -180
    },
    "id": "27a39c66"
   },
   "outputs": [],
   "source": [
    "from sklearn.linear_model import LogisticRegression \n",
    "from sklearn.feature_extraction.text import CountVectorizer"
   ]
  },
  {
   "cell_type": "code",
   "execution_count": 17,
   "id": "2a77a0ad",
   "metadata": {
    "executionInfo": {
     "elapsed": 803,
     "status": "ok",
     "timestamp": 1677944164577,
     "user": {
      "displayName": "Kuroles",
      "userId": "00026309423615117208"
     },
     "user_tz": -180
    },
    "id": "2a77a0ad"
   },
   "outputs": [],
   "source": [
    "vec = CountVectorizer(ngram_range=(1, 1), token_pattern='\\w{3,}') # строим BoW для слов"
   ]
  },
  {
   "cell_type": "code",
   "execution_count": 18,
   "id": "ceb7fddd",
   "metadata": {
    "executionInfo": {
     "elapsed": 381,
     "status": "ok",
     "timestamp": 1677944165840,
     "user": {
      "displayName": "Kuroles",
      "userId": "00026309423615117208"
     },
     "user_tz": -180
    },
    "id": "ceb7fddd"
   },
   "outputs": [],
   "source": [
    "bow = vec.fit_transform(train['comment'])"
   ]
  },
  {
   "cell_type": "code",
   "execution_count": 19,
   "id": "55ce9d6d",
   "metadata": {
    "colab": {
     "base_uri": "https://localhost:8080/"
    },
    "executionInfo": {
     "elapsed": 9,
     "status": "ok",
     "timestamp": 1677944167103,
     "user": {
      "displayName": "Kuroles",
      "userId": "00026309423615117208"
     },
     "user_tz": -180
    },
    "id": "55ce9d6d",
    "outputId": "72dddfbc-4a3f-4802-9d90-0f6b2d16e22a"
   },
   "outputs": [
    {
     "data": {
      "text/plain": [
       "<7566x43792 sparse matrix of type '<class 'numpy.int64'>'\n",
       "\twith 145425 stored elements in Compressed Sparse Row format>"
      ]
     },
     "execution_count": 19,
     "metadata": {},
     "output_type": "execute_result"
    }
   ],
   "source": [
    "bow"
   ]
  },
  {
   "cell_type": "code",
   "execution_count": 20,
   "id": "88082337",
   "metadata": {
    "colab": {
     "base_uri": "https://localhost:8080/"
    },
    "executionInfo": {
     "elapsed": 252,
     "status": "ok",
     "timestamp": 1677944173487,
     "user": {
      "displayName": "Kuroles",
      "userId": "00026309423615117208"
     },
     "user_tz": -180
    },
    "id": "88082337",
    "outputId": "f56b5b3b-f0f6-434b-9fef-c9e130aa97f1"
   },
   "outputs": [
    {
     "name": "stdout",
     "output_type": "stream",
     "text": [
      "А у мамы в группе до самого выпуска из сада такие просяки нет-нет, да случаются, с разными детьми. Только для одних детей это разовая акция, у других - время от времени, а у третьих - частенько. И родители прекрасно в курсе особенностей каждого конкретного ребенка.\n",
      "\n"
     ]
    }
   ],
   "source": [
    "print(train.comment[10804])"
   ]
  },
  {
   "cell_type": "code",
   "execution_count": 21,
   "id": "62211fe4",
   "metadata": {
    "colab": {
     "base_uri": "https://localhost:8080/"
    },
    "executionInfo": {
     "elapsed": 254,
     "status": "ok",
     "timestamp": 1677944181261,
     "user": {
      "displayName": "Kuroles",
      "userId": "00026309423615117208"
     },
     "user_tz": -180
    },
    "id": "62211fe4",
    "outputId": "25da662f-667b-4554-b6fd-5f7e87612346"
   },
   "outputs": [
    {
     "data": {
      "text/plain": [
       "[('шовинистические', 42944),\n",
       " ('пидораны', 25355),\n",
       " ('долбоеб', 9303),\n",
       " ('чтоле', 42557),\n",
       " ('под', 26141),\n",
       " ('кроватью', 15811),\n",
       " ('куколдов', 16027),\n",
       " ('ищи', 13557),\n",
       " ('это', 43516),\n",
       " ('долгая', 9321)]"
      ]
     },
     "execution_count": 21,
     "metadata": {},
     "output_type": "execute_result"
    }
   ],
   "source": [
    "list(vec.vocabulary_.items())[:10]"
   ]
  },
  {
   "cell_type": "code",
   "execution_count": 22,
   "id": "bd6c6604",
   "metadata": {
    "colab": {
     "base_uri": "https://localhost:8080/"
    },
    "executionInfo": {
     "elapsed": 244,
     "status": "ok",
     "timestamp": 1677944195366,
     "user": {
      "displayName": "Kuroles",
      "userId": "00026309423615117208"
     },
     "user_tz": -180
    },
    "id": "bd6c6604",
    "outputId": "f710cffd-e95d-4f21-d2fc-88b5784fbb85"
   },
   "outputs": [
    {
     "data": {
      "text/plain": [
       "[('000', 0),\n",
       " ('0036', 1),\n",
       " ('005', 2),\n",
       " ('00х', 3),\n",
       " ('013', 4),\n",
       " ('030050', 5),\n",
       " ('0849', 6),\n",
       " ('0х200в', 7),\n",
       " ('100', 8),\n",
       " ('1000', 9)]"
      ]
     },
     "execution_count": 22,
     "metadata": {},
     "output_type": "execute_result"
    }
   ],
   "source": [
    "sorted(list(vec.vocabulary_.items()), key=lambda x: x[0])[:10]"
   ]
  },
  {
   "cell_type": "code",
   "execution_count": 23,
   "id": "fea6341f",
   "metadata": {
    "colab": {
     "base_uri": "https://localhost:8080/"
    },
    "executionInfo": {
     "elapsed": 238,
     "status": "ok",
     "timestamp": 1677944197205,
     "user": {
      "displayName": "Kuroles",
      "userId": "00026309423615117208"
     },
     "user_tz": -180
    },
    "id": "fea6341f",
    "outputId": "11864707-88b0-4827-962e-12efca8b7351"
   },
   "outputs": [
    {
     "data": {
      "text/plain": [
       "['шовинистические',\n",
       " 'пидораны',\n",
       " 'долбоеб',\n",
       " 'чтоле',\n",
       " 'под',\n",
       " 'кроватью',\n",
       " 'куколдов',\n",
       " 'ищи',\n",
       " 'это',\n",
       " 'долгая']"
      ]
     },
     "execution_count": 23,
     "metadata": {},
     "output_type": "execute_result"
    }
   ],
   "source": [
    "list(vec.vocabulary_.keys())[:10]"
   ]
  },
  {
   "cell_type": "code",
   "execution_count": 24,
   "id": "406ba520",
   "metadata": {
    "colab": {
     "base_uri": "https://localhost:8080/"
    },
    "executionInfo": {
     "elapsed": 268,
     "status": "ok",
     "timestamp": 1677944213423,
     "user": {
      "displayName": "Kuroles",
      "userId": "00026309423615117208"
     },
     "user_tz": -180
    },
    "id": "406ba520",
    "outputId": "0a590927-4fda-4933-f29e-46af599127ec"
   },
   "outputs": [
    {
     "data": {
      "text/plain": [
       "43792"
      ]
     },
     "execution_count": 24,
     "metadata": {},
     "output_type": "execute_result"
    }
   ],
   "source": [
    "len(vec.vocabulary_.items())"
   ]
  },
  {
   "cell_type": "code",
   "execution_count": 25,
   "id": "fe2b33cc",
   "metadata": {
    "colab": {
     "base_uri": "https://localhost:8080/"
    },
    "executionInfo": {
     "elapsed": 267,
     "status": "ok",
     "timestamp": 1677944216452,
     "user": {
      "displayName": "Kuroles",
      "userId": "00026309423615117208"
     },
     "user_tz": -180
    },
    "id": "fe2b33cc",
    "outputId": "f4a5dcef-f19a-468e-e659-a2dd4689a5fd",
    "scrolled": true
   },
   "outputs": [
    {
     "data": {
      "text/plain": [
       "array([1, 1, 0, ..., 1, 0, 0])"
      ]
     },
     "execution_count": 25,
     "metadata": {},
     "output_type": "execute_result"
    }
   ],
   "source": [
    "y_train = train['toxic'].astype(int).values\n",
    "y_train"
   ]
  },
  {
   "cell_type": "code",
   "execution_count": 26,
   "id": "1c0b19df",
   "metadata": {
    "colab": {
     "base_uri": "https://localhost:8080/",
     "height": 75
    },
    "executionInfo": {
     "elapsed": 3122,
     "status": "ok",
     "timestamp": 1677944222189,
     "user": {
      "displayName": "Kuroles",
      "userId": "00026309423615117208"
     },
     "user_tz": -180
    },
    "id": "1c0b19df",
    "outputId": "5f78567f-7dd2-43d5-d86e-e1c9fcb1d1df"
   },
   "outputs": [
    {
     "data": {
      "text/plain": [
       "LogisticRegression(max_iter=500, random_state=42)"
      ]
     },
     "execution_count": 26,
     "metadata": {},
     "output_type": "execute_result"
    }
   ],
   "source": [
    "clf = LogisticRegression(random_state=42, max_iter=500)\n",
    "clf.fit(bow, y_train)"
   ]
  },
  {
   "cell_type": "code",
   "execution_count": 27,
   "id": "9a8950b4",
   "metadata": {
    "colab": {
     "base_uri": "https://localhost:8080/"
    },
    "executionInfo": {
     "elapsed": 262,
     "status": "ok",
     "timestamp": 1677944225562,
     "user": {
      "displayName": "Kuroles",
      "userId": "00026309423615117208"
     },
     "user_tz": -180
    },
    "id": "9a8950b4",
    "outputId": "8b0ab946-0aa8-48a3-91ac-76f3edc8c947"
   },
   "outputs": [
    {
     "data": {
      "text/plain": [
       "43792"
      ]
     },
     "execution_count": 27,
     "metadata": {},
     "output_type": "execute_result"
    }
   ],
   "source": [
    "len(clf.coef_[0])"
   ]
  },
  {
   "cell_type": "code",
   "execution_count": 28,
   "id": "5533eadd",
   "metadata": {
    "colab": {
     "base_uri": "https://localhost:8080/"
    },
    "executionInfo": {
     "elapsed": 251,
     "status": "ok",
     "timestamp": 1677944231216,
     "user": {
      "displayName": "Kuroles",
      "userId": "00026309423615117208"
     },
     "user_tz": -180
    },
    "id": "5533eadd",
    "outputId": "a07aed93-15d6-43bc-8a19-eceee20f70c6"
   },
   "outputs": [
    {
     "data": {
      "text/plain": [
       "<3243x43792 sparse matrix of type '<class 'numpy.int64'>'\n",
       "\twith 51429 stored elements in Compressed Sparse Row format>"
      ]
     },
     "execution_count": 28,
     "metadata": {},
     "output_type": "execute_result"
    }
   ],
   "source": [
    "bow_test = vec.transform(test['comment'])\n",
    "bow_test"
   ]
  },
  {
   "cell_type": "code",
   "execution_count": 29,
   "id": "066d598f",
   "metadata": {
    "colab": {
     "base_uri": "https://localhost:8080/"
    },
    "executionInfo": {
     "elapsed": 269,
     "status": "ok",
     "timestamp": 1677944243007,
     "user": {
      "displayName": "Kuroles",
      "userId": "00026309423615117208"
     },
     "user_tz": -180
    },
    "id": "066d598f",
    "outputId": "b9f54eb8-8a5e-41b3-af77-d34959912992"
   },
   "outputs": [
    {
     "data": {
      "text/plain": [
       "array([0, 1, 1, 1, 1, 0, 1, 0, 0, 0])"
      ]
     },
     "execution_count": 29,
     "metadata": {},
     "output_type": "execute_result"
    }
   ],
   "source": [
    "pred = clf.predict(bow_test)\n",
    "pred[:10]"
   ]
  },
  {
   "cell_type": "code",
   "execution_count": 30,
   "id": "0315c21c",
   "metadata": {
    "colab": {
     "base_uri": "https://localhost:8080/"
    },
    "executionInfo": {
     "elapsed": 258,
     "status": "ok",
     "timestamp": 1677944246407,
     "user": {
      "displayName": "Kuroles",
      "userId": "00026309423615117208"
     },
     "user_tz": -180
    },
    "id": "0315c21c",
    "outputId": "b0cee775-1279-45a8-eb98-e1d7c91f49cb"
   },
   "outputs": [
    {
     "name": "stdout",
     "output_type": "stream",
     "text": [
      "              precision    recall  f1-score   support\n",
      "\n",
      "           0       0.93      0.84      0.88      2407\n",
      "           1       0.64      0.83      0.72       836\n",
      "\n",
      "    accuracy                           0.84      3243\n",
      "   macro avg       0.79      0.83      0.80      3243\n",
      "weighted avg       0.86      0.84      0.84      3243\n",
      "\n"
     ]
    }
   ],
   "source": [
    "print(classification_report(pred, y_test))"
   ]
  },
  {
   "cell_type": "markdown",
   "id": "8aa5c4b1",
   "metadata": {
    "id": "8aa5c4b1"
   },
   "source": [
    "### Попробуем добавить препроцессинг текста\n",
    "\n",
    "Препроцессинг, как правило, включает удаление небуквенных символов, топ-слов и нормализацию (стемминг - приведение к основе слова - или лемматизацию - приведение слов к начальной форме).\n",
    "\n",
    "Кроме того, заменим мешок слов на TF-IDF матрицу. В качестве модели оставим логистическую регрессию."
   ]
  },
  {
   "cell_type": "code",
   "execution_count": 31,
   "id": "4a75b52c",
   "metadata": {
    "executionInfo": {
     "elapsed": 243,
     "status": "ok",
     "timestamp": 1677944252562,
     "user": {
      "displayName": "Kuroles",
      "userId": "00026309423615117208"
     },
     "user_tz": -180
    },
    "id": "4a75b52c"
   },
   "outputs": [],
   "source": [
    "from sklearn.feature_extraction.text import TfidfVectorizer"
   ]
  },
  {
   "cell_type": "code",
   "execution_count": 32,
   "id": "ad514542",
   "metadata": {
    "colab": {
     "base_uri": "https://localhost:8080/"
    },
    "executionInfo": {
     "elapsed": 8273,
     "status": "ok",
     "timestamp": 1677944262649,
     "user": {
      "displayName": "Kuroles",
      "userId": "00026309423615117208"
     },
     "user_tz": -180
    },
    "id": "ad514542",
    "outputId": "a0dddeaf-e14d-4e34-a50b-580752f92ed2"
   },
   "outputs": [],
   "source": [
    "# !pip install pymorphy2"
   ]
  },
  {
   "cell_type": "code",
   "execution_count": 33,
   "id": "ea71a32a",
   "metadata": {
    "colab": {
     "base_uri": "https://localhost:8080/"
    },
    "executionInfo": {
     "elapsed": 933,
     "status": "ok",
     "timestamp": 1677944269204,
     "user": {
      "displayName": "Kuroles",
      "userId": "00026309423615117208"
     },
     "user_tz": -180
    },
    "id": "ea71a32a",
    "outputId": "dd59937a-de7e-4677-9623-0131856a1549"
   },
   "outputs": [
    {
     "name": "stderr",
     "output_type": "stream",
     "text": [
      "[nltk_data] Downloading package stopwords to\n",
      "[nltk_data]     C:\\Users\\Zver\\AppData\\Roaming\\nltk_data...\n",
      "[nltk_data]   Package stopwords is already up-to-date!\n"
     ]
    },
    {
     "data": {
      "text/plain": [
       "True"
      ]
     },
     "execution_count": 33,
     "metadata": {},
     "output_type": "execute_result"
    }
   ],
   "source": [
    "import nltk\n",
    "nltk.download('stopwords')"
   ]
  },
  {
   "cell_type": "markdown",
   "id": "1d879db0",
   "metadata": {
    "id": "1d879db0"
   },
   "source": [
    "Функция для удаления небуквенных символов из текста:"
   ]
  },
  {
   "cell_type": "code",
   "execution_count": 34,
   "id": "a2958b5a",
   "metadata": {
    "executionInfo": {
     "elapsed": 853,
     "status": "ok",
     "timestamp": 1677944272931,
     "user": {
      "displayName": "Kuroles",
      "userId": "00026309423615117208"
     },
     "user_tz": -180
    },
    "id": "a2958b5a"
   },
   "outputs": [],
   "source": [
    "import re\n",
    "from pymorphy2 import MorphAnalyzer\n",
    "from nltk.corpus import stopwords\n",
    "\n",
    "from functools import lru_cache\n",
    "from tqdm.notebook import tqdm\n",
    "\n",
    "m = MorphAnalyzer()\n",
    "regex = re.compile(\"[а-яa-zёЁ()]+\")\n",
    "\n",
    "def words_only(text, regex=regex):\n",
    "    try:\n",
    "        return regex.findall(text.lower())\n",
    "    except:\n",
    "        return []"
   ]
  },
  {
   "cell_type": "code",
   "execution_count": 35,
   "id": "e805d0b6",
   "metadata": {
    "colab": {
     "base_uri": "https://localhost:8080/",
     "height": 35
    },
    "executionInfo": {
     "elapsed": 433,
     "status": "ok",
     "timestamp": 1677944300301,
     "user": {
      "displayName": "Kuroles",
      "userId": "00026309423615117208"
     },
     "user_tz": -180
    },
    "id": "e805d0b6",
    "outputId": "7b295e58-f734-4003-c1c4-41e42c24fe3c"
   },
   "outputs": [
    {
     "data": {
      "text/plain": [
       "'И именно эти неработающие весы показывают, что работающих нет?..\\n'"
      ]
     },
     "execution_count": 35,
     "metadata": {},
     "output_type": "execute_result"
    }
   ],
   "source": [
    "train.comment[1]"
   ]
  },
  {
   "cell_type": "code",
   "execution_count": 36,
   "id": "826d2eec",
   "metadata": {
    "colab": {
     "base_uri": "https://localhost:8080/"
    },
    "executionInfo": {
     "elapsed": 283,
     "status": "ok",
     "timestamp": 1677944306691,
     "user": {
      "displayName": "Kuroles",
      "userId": "00026309423615117208"
     },
     "user_tz": -180
    },
    "id": "826d2eec",
    "outputId": "e225287d-4fa3-46c7-e24a-893447fabe7b",
    "scrolled": true
   },
   "outputs": [
    {
     "data": {
      "text/plain": [
       "['и',\n",
       " 'именно',\n",
       " 'эти',\n",
       " 'неработающие',\n",
       " 'весы',\n",
       " 'показывают',\n",
       " 'что',\n",
       " 'работающих',\n",
       " 'нет']"
      ]
     },
     "execution_count": 36,
     "metadata": {},
     "output_type": "execute_result"
    }
   ],
   "source": [
    "words_only(train.comment[1])"
   ]
  },
  {
   "cell_type": "markdown",
   "id": "3cbea389",
   "metadata": {
    "id": "3cbea389"
   },
   "source": [
    "Функции для препроцессинга текста: \n",
    "\n",
    "1. Удаление небуквенных символов\n",
    "2. Лемматизация \n",
    "3. Удаление коротких (менее 3 символов) и стоп-слов"
   ]
  },
  {
   "cell_type": "code",
   "execution_count": 37,
   "id": "58a2fee8",
   "metadata": {
    "executionInfo": {
     "elapsed": 267,
     "status": "ok",
     "timestamp": 1677944321860,
     "user": {
      "displayName": "Kuroles",
      "userId": "00026309423615117208"
     },
     "user_tz": -180
    },
    "id": "58a2fee8"
   },
   "outputs": [],
   "source": [
    "@lru_cache(maxsize=128)\n",
    "def lemmatize_word(token, pymorphy=m):\n",
    "    return pymorphy.parse(token)[0].normal_form\n",
    "\n",
    "def lemmatize_text(text):\n",
    "    return [lemmatize_word(w) for w in text]\n",
    "\n",
    "\n",
    "mystopwords = stopwords.words('russian') \n",
    "def remove_stopwords(lemmas, stopwords = mystopwords):\n",
    "    return [w for w in lemmas if not w in stopwords and len(w) > 3]\n",
    "\n",
    "def clean_text(text):\n",
    "    tokens = words_only(text)\n",
    "    lemmas = lemmatize_text(tokens)\n",
    "    \n",
    "    return ' '.join(remove_stopwords(lemmas))"
   ]
  },
  {
   "cell_type": "code",
   "execution_count": 38,
   "id": "d19590af",
   "metadata": {
    "colab": {
     "base_uri": "https://localhost:8080/",
     "height": 70
    },
    "executionInfo": {
     "elapsed": 284,
     "status": "ok",
     "timestamp": 1677944325264,
     "user": {
      "displayName": "Kuroles",
      "userId": "00026309423615117208"
     },
     "user_tz": -180
    },
    "id": "d19590af",
    "outputId": "e30a3cf0-0a89-4324-e530-287cebf75a71"
   },
   "outputs": [
    {
     "name": "stdout",
     "output_type": "stream",
     "text": [
      "Wall time: 0 ns\n"
     ]
    },
    {
     "data": {
      "text/plain": [
       "'неработающий'"
      ]
     },
     "execution_count": 38,
     "metadata": {},
     "output_type": "execute_result"
    }
   ],
   "source": [
    "%time lemmatize_word('неработающие')"
   ]
  },
  {
   "cell_type": "code",
   "execution_count": 39,
   "id": "e9aa9da8",
   "metadata": {
    "colab": {
     "base_uri": "https://localhost:8080/",
     "height": 35
    },
    "executionInfo": {
     "elapsed": 259,
     "status": "ok",
     "timestamp": 1677944331801,
     "user": {
      "displayName": "Kuroles",
      "userId": "00026309423615117208"
     },
     "user_tz": -180
    },
    "id": "e9aa9da8",
    "outputId": "d65a3c9d-18a6-495f-e36f-4005e6103a03"
   },
   "outputs": [
    {
     "data": {
      "text/plain": [
       "'И именно эти неработающие весы показывают, что работающих нет?..\\n'"
      ]
     },
     "execution_count": 39,
     "metadata": {},
     "output_type": "execute_result"
    }
   ],
   "source": [
    "train.comment[1]"
   ]
  },
  {
   "cell_type": "code",
   "execution_count": 40,
   "id": "716f4ba1",
   "metadata": {
    "colab": {
     "base_uri": "https://localhost:8080/",
     "height": 35
    },
    "executionInfo": {
     "elapsed": 293,
     "status": "ok",
     "timestamp": 1677944337384,
     "user": {
      "displayName": "Kuroles",
      "userId": "00026309423615117208"
     },
     "user_tz": -180
    },
    "id": "716f4ba1",
    "outputId": "7e67721b-4cec-49a4-bef4-19af27bde5e9",
    "scrolled": true
   },
   "outputs": [
    {
     "data": {
      "text/plain": [
       "'именно неработающий весы показывать работать'"
      ]
     },
     "execution_count": 40,
     "metadata": {},
     "output_type": "execute_result"
    }
   ],
   "source": [
    "clean_text(train.comment[1])"
   ]
  },
  {
   "cell_type": "markdown",
   "id": "7b0931f5",
   "metadata": {
    "id": "7b0931f5"
   },
   "source": [
    "Проводим препроцессинг для train и test выборок:"
   ]
  },
  {
   "cell_type": "code",
   "execution_count": 41,
   "id": "1b7459d9",
   "metadata": {
    "colab": {
     "base_uri": "https://localhost:8080/",
     "height": 238,
     "referenced_widgets": [
      "27551a630acb442db5a1d01a9466fd50",
      "11904d61050048aaa39241e777e092e5",
      "4cafd09c534a46bd8747f7facfacb8c1",
      "b878e9d686e94f34990044019ddf7ab0",
      "85c522dab0a34b588a4545f18b0ace37",
      "bd3ed94fc21f4edbae592c5605adb283",
      "194da73266fb49c8a68847ad7ff0c37c",
      "ef48780ebe0b458089770b681616a3c8",
      "3cd26e57cf604a44807e6ab138b01f5d",
      "df08d11ee5e949e5a33c51c803025528",
      "50ddcc754e79428aaf6d56f34b51d54f"
     ]
    },
    "executionInfo": {
     "elapsed": 0,
     "status": "ok",
     "timestamp": 1677944431338,
     "user": {
      "displayName": "Kuroles",
      "userId": "00026309423615117208"
     },
     "user_tz": -180
    },
    "id": "1b7459d9",
    "outputId": "af2afeb3-e94e-4d47-c696-03d5018afaf9"
   },
   "outputs": [
    {
     "data": {
      "application/vnd.jupyter.widget-view+json": {
       "model_id": "13995d374dd34931af7ec623ab952b6f",
       "version_major": 2,
       "version_minor": 0
      },
      "text/plain": [
       "  0%|          | 0/7566 [00:00<?, ?it/s]"
      ]
     },
     "metadata": {},
     "output_type": "display_data"
    },
    {
     "data": {
      "text/html": [
       "<div>\n",
       "<style scoped>\n",
       "    .dataframe tbody tr th:only-of-type {\n",
       "        vertical-align: middle;\n",
       "    }\n",
       "\n",
       "    .dataframe tbody tr th {\n",
       "        vertical-align: top;\n",
       "    }\n",
       "\n",
       "    .dataframe thead th {\n",
       "        text-align: right;\n",
       "    }\n",
       "</style>\n",
       "<table border=\"1\" class=\"dataframe\">\n",
       "  <thead>\n",
       "    <tr style=\"text-align: right;\">\n",
       "      <th></th>\n",
       "      <th>comment</th>\n",
       "      <th>toxic</th>\n",
       "      <th>lemmas</th>\n",
       "    </tr>\n",
       "  </thead>\n",
       "  <tbody>\n",
       "    <tr>\n",
       "      <th>5491</th>\n",
       "      <td>Татаре больше русские чем весь этот хохло-буль...</td>\n",
       "      <td>1.0</td>\n",
       "      <td>татар большой русский весь хохнуть бульбаший у...</td>\n",
       "    </tr>\n",
       "    <tr>\n",
       "      <th>1102</th>\n",
       "      <td>Видимо на 5ггц получше ситуация? Возможно. Так...</td>\n",
       "      <td>0.0</td>\n",
       "      <td>видимо хороший ситуация возможно также возможн...</td>\n",
       "    </tr>\n",
       "    <tr>\n",
       "      <th>529</th>\n",
       "      <td>готовься к санкциям Не проецируй, пидораха. Ра...</td>\n",
       "      <td>1.0</td>\n",
       "      <td>готовиться санкция проецировать пидорах разрыв...</td>\n",
       "    </tr>\n",
       "    <tr>\n",
       "      <th>8211</th>\n",
       "      <td>Не, ну он не мог сначала в село перебраться, а...</td>\n",
       "      <td>0.0</td>\n",
       "      <td>мочь сначала село перебраться оформлять успеть...</td>\n",
       "    </tr>\n",
       "    <tr>\n",
       "      <th>5537</th>\n",
       "      <td>Говорят что обиженных в жопу долбят, но это не...</td>\n",
       "      <td>1.0</td>\n",
       "      <td>говорить обиженный жопа долбить точно</td>\n",
       "    </tr>\n",
       "  </tbody>\n",
       "</table>\n",
       "</div>"
      ],
      "text/plain": [
       "                                                comment  toxic  \\\n",
       "5491  Татаре больше русские чем весь этот хохло-буль...    1.0   \n",
       "1102  Видимо на 5ггц получше ситуация? Возможно. Так...    0.0   \n",
       "529   готовься к санкциям Не проецируй, пидораха. Ра...    1.0   \n",
       "8211  Не, ну он не мог сначала в село перебраться, а...    0.0   \n",
       "5537  Говорят что обиженных в жопу долбят, но это не...    1.0   \n",
       "\n",
       "                                                 lemmas  \n",
       "5491  татар большой русский весь хохнуть бульбаший у...  \n",
       "1102  видимо хороший ситуация возможно также возможн...  \n",
       "529   готовиться санкция проецировать пидорах разрыв...  \n",
       "8211  мочь сначала село перебраться оформлять успеть...  \n",
       "5537              говорить обиженный жопа долбить точно  "
      ]
     },
     "execution_count": 41,
     "metadata": {},
     "output_type": "execute_result"
    }
   ],
   "source": [
    "lemmas = list(tqdm(map(clean_text, train['comment']), total=len(train)))\n",
    "    \n",
    "train['lemmas'] = lemmas\n",
    "train.sample(5)"
   ]
  },
  {
   "cell_type": "code",
   "execution_count": 42,
   "id": "a3817bcc",
   "metadata": {
    "colab": {
     "base_uri": "https://localhost:8080/",
     "height": 49,
     "referenced_widgets": [
      "fa9316aa0f274bed8cf8053279b95749",
      "7054473cee7d4c519f17582d89391e29",
      "5d7471db41b743e588c4f1b6da3a005b",
      "c6697c4a083941428ad013b31c3be18a",
      "09aee58254064b2e8f5f7b83289bfb8f",
      "1a50c0205fb449ba95c4747e0e40b45a",
      "f328d1da696b429383ecd24b13b41f1a",
      "46cb1ca73cff476299b99af8f43eb1db",
      "67c28a5adcbc4530aad7da1c30879923",
      "28018968de984a81b29876dab4b936d4",
      "2a6d0ee17f2640bb8ff9bcf34b331126"
     ]
    },
    "executionInfo": {
     "elapsed": 55083,
     "status": "ok",
     "timestamp": 1677944492326,
     "user": {
      "displayName": "Kuroles",
      "userId": "00026309423615117208"
     },
     "user_tz": -180
    },
    "id": "a3817bcc",
    "outputId": "a00d0999-6e1f-40f7-ef66-7e8e0d164477"
   },
   "outputs": [
    {
     "data": {
      "application/vnd.jupyter.widget-view+json": {
       "model_id": "41f2bf6117ca46feb4374d1640fac2ce",
       "version_major": 2,
       "version_minor": 0
      },
      "text/plain": [
       "  0%|          | 0/3243 [00:00<?, ?it/s]"
      ]
     },
     "metadata": {},
     "output_type": "display_data"
    }
   ],
   "source": [
    "lemmas_test = list(tqdm(map(clean_text, test['comment']), total=len(test)))\n",
    "    \n",
    "test['lemmas'] = lemmas_test"
   ]
  },
  {
   "cell_type": "markdown",
   "id": "d5936169",
   "metadata": {
    "id": "d5936169"
   },
   "source": [
    "Считаем TF-IDF матрицу и обучаем модель:"
   ]
  },
  {
   "cell_type": "code",
   "execution_count": 43,
   "id": "d9866256",
   "metadata": {
    "colab": {
     "base_uri": "https://localhost:8080/"
    },
    "executionInfo": {
     "elapsed": 1374,
     "status": "ok",
     "timestamp": 1677944503076,
     "user": {
      "displayName": "Kuroles",
      "userId": "00026309423615117208"
     },
     "user_tz": -180
    },
    "id": "d9866256",
    "outputId": "082a04c8-97bb-4550-c1d7-edeff344c552"
   },
   "outputs": [
    {
     "data": {
      "text/plain": [
       "0.8294788775824854"
      ]
     },
     "execution_count": 43,
     "metadata": {},
     "output_type": "execute_result"
    }
   ],
   "source": [
    "vec = TfidfVectorizer(ngram_range=(1, 1)) # строим BoW для слов\n",
    "tfidf = vec.fit_transform(train['lemmas'])\n",
    "\n",
    "clf = LogisticRegression(random_state=42, max_iter=500)\n",
    "clf.fit(tfidf, y_train)\n",
    "\n",
    "pred = clf.predict(vec.transform(test['lemmas']))\n",
    "accuracy_score(pred, y_test)"
   ]
  },
  {
   "cell_type": "code",
   "execution_count": 44,
   "id": "41481730",
   "metadata": {
    "colab": {
     "base_uri": "https://localhost:8080/"
    },
    "executionInfo": {
     "elapsed": 261,
     "status": "ok",
     "timestamp": 1677944505930,
     "user": {
      "displayName": "Kuroles",
      "userId": "00026309423615117208"
     },
     "user_tz": -180
    },
    "id": "41481730",
    "outputId": "ff37e6fd-a30d-4baf-befa-46993e8b7b0d"
   },
   "outputs": [
    {
     "name": "stdout",
     "output_type": "stream",
     "text": [
      "              precision    recall  f1-score   support\n",
      "\n",
      "           0       0.97      0.81      0.88      2597\n",
      "           1       0.54      0.91      0.68       646\n",
      "\n",
      "    accuracy                           0.83      3243\n",
      "   macro avg       0.76      0.86      0.78      3243\n",
      "weighted avg       0.89      0.83      0.84      3243\n",
      "\n"
     ]
    }
   ],
   "source": [
    "print(classification_report(pred, y_test))"
   ]
  },
  {
   "cell_type": "markdown",
   "id": "b265301c",
   "metadata": {
    "id": "b265301c"
   },
   "source": [
    "## Word2Vec\n",
    "\n",
    "Попробуем использовать эмбеддинги слов - для этого сперва обучим модель Word2Vec c помощью библиотеки gensim."
   ]
  },
  {
   "cell_type": "code",
   "execution_count": 45,
   "id": "b096313b",
   "metadata": {
    "executionInfo": {
     "elapsed": 1157,
     "status": "ok",
     "timestamp": 1677944756894,
     "user": {
      "displayName": "Kuroles",
      "userId": "00026309423615117208"
     },
     "user_tz": -180
    },
    "id": "b096313b"
   },
   "outputs": [],
   "source": [
    "from gensim.models import word2vec"
   ]
  },
  {
   "cell_type": "code",
   "execution_count": 46,
   "id": "d0dfa851",
   "metadata": {
    "colab": {
     "base_uri": "https://localhost:8080/",
     "height": 81
    },
    "executionInfo": {
     "elapsed": 608,
     "status": "ok",
     "timestamp": 1677944760631,
     "user": {
      "displayName": "Kuroles",
      "userId": "00026309423615117208"
     },
     "user_tz": -180
    },
    "id": "d0dfa851",
    "outputId": "aa88a9dc-444c-449d-8b43-73d5ef8e5de9"
   },
   "outputs": [
    {
     "data": {
      "text/html": [
       "<div>\n",
       "<style scoped>\n",
       "    .dataframe tbody tr th:only-of-type {\n",
       "        vertical-align: middle;\n",
       "    }\n",
       "\n",
       "    .dataframe tbody tr th {\n",
       "        vertical-align: top;\n",
       "    }\n",
       "\n",
       "    .dataframe thead th {\n",
       "        text-align: right;\n",
       "    }\n",
       "</style>\n",
       "<table border=\"1\" class=\"dataframe\">\n",
       "  <thead>\n",
       "    <tr style=\"text-align: right;\">\n",
       "      <th></th>\n",
       "      <th>comment</th>\n",
       "      <th>toxic</th>\n",
       "      <th>lemmas</th>\n",
       "    </tr>\n",
       "  </thead>\n",
       "  <tbody>\n",
       "    <tr>\n",
       "      <th>8281</th>\n",
       "      <td>Ну тогда вы должны знать, что при готовке на о...</td>\n",
       "      <td>0.0</td>\n",
       "      <td>должный знать готовка примеру) человек идти ра...</td>\n",
       "    </tr>\n",
       "  </tbody>\n",
       "</table>\n",
       "</div>"
      ],
      "text/plain": [
       "                                                comment  toxic  \\\n",
       "8281  Ну тогда вы должны знать, что при готовке на о...    0.0   \n",
       "\n",
       "                                                 lemmas  \n",
       "8281  должный знать готовка примеру) человек идти ра...  "
      ]
     },
     "execution_count": 46,
     "metadata": {},
     "output_type": "execute_result"
    }
   ],
   "source": [
    "train.sample()"
   ]
  },
  {
   "cell_type": "code",
   "execution_count": null,
   "id": "179d12d6",
   "metadata": {
    "id": "179d12d6"
   },
   "outputs": [],
   "source": [
    "#help( word2vec.Word2Vec)"
   ]
  },
  {
   "cell_type": "code",
   "execution_count": 47,
   "id": "4bea504c",
   "metadata": {
    "executionInfo": {
     "elapsed": 1774,
     "status": "ok",
     "timestamp": 1677945265859,
     "user": {
      "displayName": "Kuroles",
      "userId": "00026309423615117208"
     },
     "user_tz": -180
    },
    "id": "4bea504c"
   },
   "outputs": [],
   "source": [
    "tokenized_tweets = [tweet.split() for tweet in train['lemmas'].values]\n",
    "\n",
    "w2v = word2vec.Word2Vec(\n",
    "    tokenized_tweets, workers=4, vector_size=200, min_count=10, window=3, sample=1e-3\n",
    ")"
   ]
  },
  {
   "cell_type": "code",
   "execution_count": 48,
   "id": "ba0aeb03",
   "metadata": {
    "colab": {
     "base_uri": "https://localhost:8080/"
    },
    "executionInfo": {
     "elapsed": 279,
     "status": "ok",
     "timestamp": 1677945292542,
     "user": {
      "displayName": "Kuroles",
      "userId": "00026309423615117208"
     },
     "user_tz": -180
    },
    "id": "ba0aeb03",
    "outputId": "77694c15-6ff3-4dbf-aec0-d6ec785e2969"
   },
   "outputs": [
    {
     "data": {
      "text/plain": [
       "[('работа', 0.9997643232345581),\n",
       " ('самый', 0.9997617602348328),\n",
       " ('поэтому', 0.999758243560791),\n",
       " ('стать', 0.9997527003288269),\n",
       " ('делать', 0.9997518062591553),\n",
       " ('сразу', 0.9997504353523254),\n",
       " ('давать', 0.9997462630271912),\n",
       " ('говно', 0.9997437000274658),\n",
       " ('второй', 0.9997434020042419),\n",
       " ('брать', 0.9997427463531494)]"
      ]
     },
     "execution_count": 48,
     "metadata": {},
     "output_type": "execute_result"
    }
   ],
   "source": [
    "w2v.wv.most_similar(positive=['плюс'], topn=10)"
   ]
  },
  {
   "cell_type": "markdown",
   "id": "d9d94c62",
   "metadata": {
    "id": "d9d94c62"
   },
   "source": [
    "Теперь у нас есть эмбеддинги для слов. Но как получить эмбеддинги для твитов?\n",
    "\n",
    "Можно просто усреднить эмбеддинги слов, входящих в твит."
   ]
  },
  {
   "cell_type": "code",
   "execution_count": 50,
   "id": "cdcc4776",
   "metadata": {
    "executionInfo": {
     "elapsed": 262,
     "status": "ok",
     "timestamp": 1677945706122,
     "user": {
      "displayName": "Kuroles",
      "userId": "00026309423615117208"
     },
     "user_tz": -180
    },
    "id": "cdcc4776"
   },
   "outputs": [],
   "source": [
    "def get_tweet_embedding(lemmas, model=w2v.wv, embedding_size=200):\n",
    "    \n",
    "    res = np.zeros(embedding_size)\n",
    "    cnt = 0\n",
    "    for word in lemmas.split():\n",
    "        if word in model:\n",
    "            res += np.array(model[word])\n",
    "            cnt += 1\n",
    "    if cnt:\n",
    "        res = res / cnt\n",
    "    return res"
   ]
  },
  {
   "cell_type": "code",
   "execution_count": 51,
   "id": "13d34161",
   "metadata": {
    "colab": {
     "base_uri": "https://localhost:8080/"
    },
    "executionInfo": {
     "elapsed": 295,
     "status": "ok",
     "timestamp": 1677946031229,
     "user": {
      "displayName": "Kuroles",
      "userId": "00026309423615117208"
     },
     "user_tz": -180
    },
    "id": "13d34161",
    "outputId": "19c5994e-93f3-4d19-acb2-867122ff8243"
   },
   "outputs": [
    {
     "data": {
      "text/plain": [
       "array([ 0.01031453, -0.00134417,  0.02363954,  0.02723716,  0.05476218,\n",
       "       -0.02475743, -0.00403957,  0.08161531, -0.02173087,  0.03592744,\n",
       "       -0.03448499, -0.04116287, -0.02004078,  0.04912569, -0.02209529,\n",
       "       -0.04795951, -0.02215341, -0.0099673 ,  0.02670055, -0.07311655,\n",
       "        0.04012465, -0.04025758,  0.01497772,  0.00056953, -0.00118035,\n",
       "       -0.01436246, -0.00475811, -0.02736854, -0.06704505,  0.02158085,\n",
       "        0.05515433,  0.01453464,  0.01413451,  0.00273   ,  0.0138288 ,\n",
       "        0.02710798,  0.04652164, -0.00450038, -0.01570326, -0.07531952,\n",
       "       -0.03459896, -0.01803993, -0.01393493,  0.0472967 ,  0.09521075,\n",
       "        0.00203819, -0.00636373, -0.0219558 ,  0.04197318,  0.04680048,\n",
       "        0.02558938, -0.01729854, -0.0240805 , -0.03913648, -0.00690955,\n",
       "       -0.01291359,  0.01348682, -0.05639656, -0.0451028 , -0.00132419,\n",
       "       -0.03010101,  0.0175846 , -0.01651896,  0.01775512, -0.04993922,\n",
       "        0.02794012,  0.00030038,  0.06533195, -0.04434856,  0.05899494,\n",
       "        0.0159122 ,  0.00617702,  0.05356678,  0.00288123,  0.01078483,\n",
       "        0.02008812,  0.03917381, -0.05374575, -0.0733248 , -0.00851434,\n",
       "       -0.01631514, -0.01615455, -0.04350413,  0.05845082, -0.03079859,\n",
       "       -0.00364623, -0.01823729,  0.05304823, -0.00064103, -0.00534085,\n",
       "       -0.00112076,  0.05484032,  0.04172225,  0.0639926 ,  0.06815287,\n",
       "        0.03601737,  0.02428925, -0.04182685,  0.05082002,  0.02374858,\n",
       "       -0.05429781,  0.08552969,  0.01709905, -0.03561475, -0.02828175,\n",
       "       -0.06800152,  0.05208029,  0.06589058, -0.00177344, -0.05626643,\n",
       "       -0.01923436, -0.05098484, -0.02542372, -0.02784229,  0.03265741,\n",
       "       -0.03328342,  0.02648946, -0.11855056,  0.00303991, -0.03034175,\n",
       "        0.01246271,  0.07386493,  0.04162582, -0.02241037, -0.02183802,\n",
       "        0.0370222 , -0.03571434, -0.02228221,  0.00331238, -0.01945465,\n",
       "        0.02219564,  0.01417775, -0.02952581, -0.0101898 , -0.02295297,\n",
       "        0.02231449, -0.04460447, -0.06862495, -0.00453423, -0.08885631,\n",
       "        0.03932967, -0.06499285, -0.04977152, -0.03919539, -0.01734926,\n",
       "       -0.03592445, -0.06125531,  0.03342065,  0.01144006,  0.02555317,\n",
       "        0.00245863, -0.05855738,  0.01781365,  0.02874018, -0.05576178,\n",
       "        0.07132437,  0.02742532,  0.03903982, -0.04275045,  0.03256712,\n",
       "        0.06056547,  0.02864391, -0.04743152, -0.0049198 ,  0.00227581,\n",
       "        0.00759803,  0.01315188, -0.03451293, -0.00264944,  0.02894195,\n",
       "       -0.06044227,  0.02928752,  0.02353569, -0.03559498,  0.03951358,\n",
       "        0.03037866, -0.05419019,  0.03971487,  0.02110174,  0.03017932,\n",
       "        0.00912018,  0.02028347, -0.02572998,  0.03998541,  0.04331389,\n",
       "        0.02036471, -0.03102476,  0.0415953 ,  0.06761095,  0.02137929,\n",
       "        0.05697902, -0.03582437, -0.01049548, -0.04567425,  0.04148315,\n",
       "        0.02153195,  0.03401879, -0.0591803 , -0.02332603, -0.00694496])"
      ]
     },
     "execution_count": 51,
     "metadata": {},
     "output_type": "execute_result"
    }
   ],
   "source": [
    "get_tweet_embedding('привет тебя')"
   ]
  },
  {
   "cell_type": "markdown",
   "id": "da1a6bd0",
   "metadata": {
    "id": "da1a6bd0"
   },
   "source": [
    "Для каждого твита из обучающей и тестовой выборки вычислим такой эмбеддинг:"
   ]
  },
  {
   "cell_type": "code",
   "execution_count": 52,
   "id": "0a181933",
   "metadata": {
    "executionInfo": {
     "elapsed": 1587,
     "status": "ok",
     "timestamp": 1677946035699,
     "user": {
      "displayName": "Kuroles",
      "userId": "00026309423615117208"
     },
     "user_tz": -180
    },
    "id": "0a181933"
   },
   "outputs": [],
   "source": [
    "train['w2v_embedding'] = train['lemmas'].map(get_tweet_embedding)\n",
    "test['w2v_embedding'] = test['lemmas'].map(get_tweet_embedding)"
   ]
  },
  {
   "cell_type": "code",
   "execution_count": 53,
   "id": "b8891446",
   "metadata": {
    "colab": {
     "base_uri": "https://localhost:8080/"
    },
    "executionInfo": {
     "elapsed": 288,
     "status": "ok",
     "timestamp": 1677946038524,
     "user": {
      "displayName": "Kuroles",
      "userId": "00026309423615117208"
     },
     "user_tz": -180
    },
    "id": "b8891446",
    "outputId": "9ba00bb7-cc83-4f0e-8496-a3b8d8dd12be"
   },
   "outputs": [
    {
     "data": {
      "text/plain": [
       "0.6734505087881592"
      ]
     },
     "execution_count": 53,
     "metadata": {},
     "output_type": "execute_result"
    }
   ],
   "source": [
    "clf = LogisticRegression(random_state=42, max_iter=500)\n",
    "clf.fit(list(train['w2v_embedding'].values), y_train)\n",
    "\n",
    "pred = clf.predict(list(test['w2v_embedding'].values))\n",
    "accuracy_score(pred, y_test)"
   ]
  },
  {
   "cell_type": "code",
   "execution_count": 54,
   "id": "dea27561",
   "metadata": {
    "colab": {
     "base_uri": "https://localhost:8080/"
    },
    "executionInfo": {
     "elapsed": 3,
     "status": "ok",
     "timestamp": 1677946054504,
     "user": {
      "displayName": "Kuroles",
      "userId": "00026309423615117208"
     },
     "user_tz": -180
    },
    "id": "dea27561",
    "outputId": "20b2c6da-2356-4907-e6ca-8c5e546883cc"
   },
   "outputs": [
    {
     "name": "stdout",
     "output_type": "stream",
     "text": [
      "              precision    recall  f1-score   support\n",
      "\n",
      "           0       0.98      0.68      0.80      3127\n",
      "           1       0.07      0.62      0.12       116\n",
      "\n",
      "    accuracy                           0.67      3243\n",
      "   macro avg       0.52      0.65      0.46      3243\n",
      "weighted avg       0.95      0.67      0.78      3243\n",
      "\n"
     ]
    }
   ],
   "source": [
    "print(classification_report(pred, y_test))"
   ]
  },
  {
   "cell_type": "markdown",
   "id": "c7ab4b0c",
   "metadata": {
    "id": "c7ab4b0c"
   },
   "source": [
    "## FastText\n",
    "\n",
    "FastText - это модификация модели word2vec.\n",
    "\n",
    "FastText использует не только векторы слов, но и векторы n-грам. В корпусе каждое слово автоматически представляется в виде набора символьных n-грамм. Скажем, если мы установим n=3, то вектор для слова \"where\" будет представлен суммой векторов следующих триграм: \"<wh\", \"whe\", \"her\", \"ere\", \"re>\" (где \"<\" и \">\" символы, обозначающие начало и конец слова). Благодаря этому мы можем также получать вектора для слов, отсутствуюших в словаре, а также эффективно работать с текстами, содержащими ошибки и опечатки.\n",
    "\n",
    "* [Статья](https://aclweb.org/anthology/Q17-1010)\n",
    "* [Сайт](https://fasttext.cc/)\n",
    "* [Руководство](https://fasttext.cc/docs/en/support.html)\n",
    "* [Репозиторий](https://github.com/facebookresearch/fasttext)\n",
    "\n",
    "Есть библиотека `fasttext` для питона (с готовыми моделями можно работать и через `gensim`).\n",
    "\n",
    "На сайте проекта можно найти предобученные модели для 157 языков (в том числе русского): https://fasttext.cc/docs/en/crawl-vectors.html\n",
    "\n",
    "Для начала, попробуем взять предобученную модель fastText с сайта проекта и заменить эмбеддинги в модели выше на эмбеддинги fastText.\n",
    "\n",
    "Бонус: попробуйте взять модель с сайта проекта Rusvetores: https://rusvectores.org/ru/models/"
   ]
  },
  {
   "cell_type": "code",
   "execution_count": null,
   "id": "3d04234c",
   "metadata": {},
   "outputs": [],
   "source": [
    "# !git clone https://github.com/facebookresearch/fastText.git\n",
    "# !cd fastText\n",
    "# !sudo pip install .\n",
    "# !sudo python setup.py install"
   ]
  },
  {
   "cell_type": "code",
   "execution_count": 1,
   "id": "-hMJ-0H5ieeM",
   "metadata": {
    "executionInfo": {
     "elapsed": 255,
     "status": "ok",
     "timestamp": 1677949432185,
     "user": {
      "displayName": "Kuroles",
      "userId": "00026309423615117208"
     },
     "user_tz": -180
    },
    "id": "-hMJ-0H5ieeM"
   },
   "outputs": [],
   "source": [
    "import fasttext\n",
    "import fasttext.util"
   ]
  },
  {
   "cell_type": "code",
   "execution_count": null,
   "id": "6351bfa4",
   "metadata": {
    "id": "6351bfa4"
   },
   "outputs": [],
   "source": [
    "# help(fasttext.util.download_model)"
   ]
  },
  {
   "cell_type": "code",
   "execution_count": 3,
   "id": "QRkzWSGXigqN",
   "metadata": {
    "id": "QRkzWSGXigqN"
   },
   "outputs": [],
   "source": [
    "# fasttext.util.download_model('ru', if_exists='ignore')\n",
    "ft = fasttext.load_model('cc.ru.300.bin')"
   ]
  },
  {
   "cell_type": "code",
   "execution_count": 4,
   "id": "e7b979af",
   "metadata": {
    "id": "e7b979af",
    "outputId": "4f65c9e8-bb9d-44b3-c982-8b193e922306"
   },
   "outputs": [
    {
     "data": {
      "text/plain": [
       "array([ 0.06434693, -0.01527086, -0.06963537, -0.03582602,  0.01471584,\n",
       "       -0.03503159,  0.02701715,  0.04161827, -0.00033126,  0.00355259,\n",
       "        0.06979205,  0.06205348,  0.05154078,  0.03831509, -0.02394784,\n",
       "       -0.03954181, -0.00189653, -0.11174394, -0.0407712 ,  0.09289949,\n",
       "       -0.07412342, -0.05209147,  0.02017231,  0.04837443,  0.02212641,\n",
       "        0.00856511, -0.03055364,  0.04733564,  0.04380886,  0.03856769,\n",
       "        0.03442968,  0.05576854,  0.01513439,  0.14055566,  0.03365337,\n",
       "       -0.02920472, -0.10305687, -0.09332671,  0.03085899, -0.11067575,\n",
       "       -0.08992791,  0.05850704, -0.017424  ,  0.00120653, -0.07153153,\n",
       "        0.10312843, -0.08066262, -0.00642456,  0.04408539, -0.05728461,\n",
       "       -0.0179531 ,  0.03936698,  0.04778077, -0.04907751, -0.00909553,\n",
       "        0.05588715, -0.00236535,  0.04878682, -0.01769035,  0.03295048,\n",
       "        0.00906604,  0.08772802,  0.02970458, -0.04903899, -0.03025401,\n",
       "       -0.04151824,  0.04931813, -0.02804473,  0.05716789,  0.03559401,\n",
       "       -0.12191223,  0.02087349, -0.05121018, -0.0584691 , -0.04781278,\n",
       "       -0.06298476, -0.00432743, -0.03785646, -0.08833752, -0.0375172 ,\n",
       "        0.04602968,  0.02096615,  0.00321184, -0.00927999, -0.00288017,\n",
       "        0.04345381, -0.0330169 ,  0.00840916, -0.05537616, -0.02134524,\n",
       "       -0.03705332,  0.06453154, -0.01733523, -0.01977487, -0.02836509,\n",
       "        0.01901042,  0.04043126, -0.07048826, -0.09381784, -0.02532577,\n",
       "       -0.02679786,  0.01097633, -0.01681483, -0.08134623,  0.00429079,\n",
       "       -0.07213577, -0.03950587,  0.07274695, -0.00337509,  0.05469057,\n",
       "       -0.01510826, -0.05297935,  0.04232059, -0.04494021, -0.01873806,\n",
       "        0.02970697, -0.02128338, -0.07461107,  0.04457341,  0.02913763,\n",
       "       -0.05406609,  0.06825955, -0.0423348 , -0.01933457,  0.00638132,\n",
       "        0.00075826,  0.10154837, -0.06699109, -0.01374834,  0.10683898,\n",
       "        0.06719182,  0.00299954,  0.03092229, -0.01919586,  0.02315286,\n",
       "        0.02552165,  0.0297376 ,  0.0476847 , -0.06794806,  0.01934321,\n",
       "        0.07793375,  0.04631811,  0.07487484, -0.06923444, -0.09797966,\n",
       "       -0.02230856,  0.04383751,  0.05814477,  0.09182699,  0.0407513 ,\n",
       "        0.06562199,  0.06420117, -0.12618978, -0.00895569, -0.03637737,\n",
       "        0.0323772 ,  0.05442533,  0.02233687,  0.0607053 , -0.03511162,\n",
       "       -0.02011008, -0.04657565, -0.1363746 , -0.09366813, -0.01257268,\n",
       "       -0.0822741 ,  0.04026463,  0.08941573,  0.05416025, -0.00148568,\n",
       "        0.02470817, -0.01521165,  0.06688396,  0.01970377, -0.067048  ,\n",
       "        0.05173868, -0.06437217,  0.02638604,  0.02355881, -0.03286408,\n",
       "       -0.01542088,  0.0226214 ,  0.01009578, -0.06503511,  0.05164307,\n",
       "        0.08621447, -0.00291589,  0.0201317 ,  0.05789564,  0.04330945,\n",
       "       -0.01468945,  0.00915974,  0.02692279,  0.07124459, -0.05370982,\n",
       "        0.04218086,  0.00314814,  0.00356758, -0.02068229,  0.0604349 ,\n",
       "       -0.08158811,  0.04939371,  0.0430281 , -0.03372736, -0.0558867 ,\n",
       "        0.00376545, -0.037087  ,  0.05940549,  0.02495521, -0.00334628,\n",
       "        0.01005986, -0.02053031,  0.01179219,  0.07010209, -0.10397089,\n",
       "        0.07733957,  0.06056703,  0.01003617, -0.15787463, -0.01765688,\n",
       "        0.00765593, -0.01905038,  0.01327723,  0.01084452, -0.05930451,\n",
       "       -0.07062402, -0.08540855,  0.01374613, -0.03077546, -0.04025275,\n",
       "        0.00268231, -0.06844234,  0.05945092,  0.02234607,  0.14669767,\n",
       "        0.03161074, -0.03626112,  0.13065669, -0.02795461,  0.00260858,\n",
       "        0.02103085, -0.01555263,  0.02790887, -0.02395738, -0.10259839,\n",
       "       -0.01162906,  0.07939966,  0.01229805,  0.0472665 ,  0.00792722,\n",
       "        0.07495239, -0.04777352,  0.02290227, -0.02349729, -0.01035224,\n",
       "       -0.04128299, -0.05037197, -0.02936148, -0.03995599, -0.09582971,\n",
       "        0.00652219, -0.00309965,  0.09921778, -0.07993053, -0.07525942,\n",
       "       -0.03148453, -0.03216294,  0.00986726, -0.03059178, -0.01402058,\n",
       "        0.02519003, -0.04734642,  0.12286284, -0.09953459,  0.01202545,\n",
       "        0.03934894,  0.07455902,  0.02744922,  0.03999532, -0.05147249,\n",
       "       -0.0055727 ,  0.07064351,  0.07526451,  0.00223117,  0.01765039,\n",
       "       -0.02785274,  0.0251571 ,  0.05081079,  0.06183068, -0.03087618,\n",
       "       -0.00268458, -0.02822061, -0.05344585, -0.05139395,  0.00151552,\n",
       "       -0.01931686,  0.00034288, -0.01423903,  0.00377267, -0.0598783 ],\n",
       "      dtype=float32)"
      ]
     },
     "execution_count": 4,
     "metadata": {},
     "output_type": "execute_result"
    }
   ],
   "source": [
    "ft['привет']"
   ]
  },
  {
   "cell_type": "code",
   "execution_count": 5,
   "id": "2b45c10e",
   "metadata": {},
   "outputs": [
    {
     "data": {
      "text/plain": [
       "[(0.7690380811691284, 'Лошадь'),\n",
       " (0.7525508999824524, 'лошадь.'),\n",
       " (0.7065301537513733, 'кобылу'),\n",
       " (0.7039711475372314, 'лошади'),\n",
       " (0.6999924182891846, 'лошадка'),\n",
       " (0.6913052797317505, 'кобыла'),\n",
       " (0.6855972409248352, 'лошадку'),\n",
       " (0.6669025421142578, 'лошаденка'),\n",
       " (0.6608322262763977, 'клячу'),\n",
       " (0.6564413905143738, 'коня')]"
      ]
     },
     "execution_count": 5,
     "metadata": {},
     "output_type": "execute_result"
    }
   ],
   "source": [
    "ft.get_nearest_neighbors('лошадь')"
   ]
  },
  {
   "cell_type": "code",
   "execution_count": 55,
   "id": "ab2ae1b8",
   "metadata": {},
   "outputs": [],
   "source": [
    "def get_tweet_embedding(lemmas, model=w2v.wv, embedding_size=200):\n",
    "    \n",
    "    res = np.zeros(embedding_size)\n",
    "    cnt = 0\n",
    "    for word in lemmas.split():\n",
    "            res += np.array(model[word])\n",
    "            cnt += 1\n",
    "    if cnt:\n",
    "        res = res / cnt\n",
    "    return res"
   ]
  },
  {
   "cell_type": "code",
   "execution_count": 56,
   "id": "79361593",
   "metadata": {
    "id": "79361593",
    "outputId": "09ff9af1-6942-445c-91c5-0a3ac54f7f80",
    "scrolled": true
   },
   "outputs": [
    {
     "data": {
      "text/plain": [
       "array([ 2.84749218e-02,  1.14055865e-02, -1.54750008e-02,  6.10717852e-03,\n",
       "       -5.42343501e-03,  2.83443742e-03,  2.40256451e-03,  1.29073053e-02,\n",
       "        3.05031866e-02, -1.99234379e-02,  6.13203850e-02,  4.42768331e-02,\n",
       "        2.71531800e-02, -1.02064133e-02,  9.22483567e-04,  2.50384058e-02,\n",
       "       -1.25383004e-02, -4.89095808e-02, -3.07890818e-02,  1.01918663e-01,\n",
       "       -2.85800546e-02, -1.05811988e-01, -1.28629373e-02,  2.95597422e-02,\n",
       "        2.13206490e-03,  1.26906892e-02, -2.97227059e-02,  2.77029723e-02,\n",
       "       -1.21254625e-02, -4.76178443e-02, -6.68591424e-03,  3.05985650e-02,\n",
       "        3.59081652e-02,  1.02970391e-01,  3.62780495e-02, -5.56655712e-02,\n",
       "       -1.11200343e-01, -1.16946280e-01,  4.69890856e-02, -5.79430675e-02,\n",
       "       -4.56299540e-03, -2.32621958e-03, -2.30524363e-03,  1.96370891e-02,\n",
       "       -1.68996924e-02,  4.77626729e-02, -7.71877861e-02,  2.95996453e-02,\n",
       "        3.40769021e-02, -3.43663241e-02,  5.55797149e-02,  1.05126291e-02,\n",
       "        9.77615127e-03,  3.99762448e-02, -2.15159254e-02,  1.93620831e-02,\n",
       "       -1.34500194e-02,  2.17238814e-03,  1.39238648e-02, -1.24853794e-02,\n",
       "       -5.08000248e-02,  6.46954067e-02,  3.07824350e-02, -4.07074159e-02,\n",
       "       -1.99913508e-02,  1.96010725e-02, -1.52623175e-02, -1.58499312e-02,\n",
       "       -4.72955415e-02,  4.77682170e-03, -5.21384678e-02,  3.73177927e-02,\n",
       "       -3.41336881e-02,  5.90577209e-03,  6.41630217e-03, -2.70765051e-02,\n",
       "       -5.57585534e-02, -9.87857254e-03, -1.75393135e-02, -3.92743144e-02,\n",
       "        2.59191706e-02,  3.97690022e-02,  5.75262937e-03, -4.60929359e-02,\n",
       "        3.89499759e-03,  3.79725420e-02, -6.47511277e-02,  5.06016524e-02,\n",
       "        1.29573480e-02,  9.16208606e-04, -1.10791333e-01, -1.59734851e-02,\n",
       "        4.38956684e-03, -5.00591882e-02, -1.91273557e-02, -1.31234950e-02,\n",
       "        4.23284452e-02, -1.32317897e-02, -9.03501306e-02,  4.14077961e-02,\n",
       "       -9.01901850e-03,  7.61899361e-02, -1.04387742e-02, -1.22785277e-02,\n",
       "       -1.63511078e-02, -3.89259742e-02,  4.25888405e-02,  2.55549918e-02,\n",
       "        7.98778998e-03,  9.49782273e-03, -3.10476529e-02, -1.09063331e-02,\n",
       "        8.43151626e-02, -3.58087434e-02, -1.24211812e-02, -1.87083688e-02,\n",
       "       -5.45124998e-02, -8.86561619e-02,  3.79863534e-02, -3.31068560e-02,\n",
       "       -4.89519509e-02,  7.88756466e-02, -5.50974393e-02,  1.60968699e-02,\n",
       "        1.01266545e-03,  2.75706507e-02,  5.04551297e-02, -1.64009025e-02,\n",
       "        1.19224258e-02,  6.78465860e-02,  2.69761501e-02,  1.12457192e-02,\n",
       "        1.86175751e-02, -1.40191410e-02, -1.72757215e-02,  5.70655339e-02,\n",
       "        5.77574829e-04,  5.24380505e-02, -5.08161918e-03,  3.53807122e-02,\n",
       "       -1.40902330e-02,  2.29508245e-02,  6.68836981e-02, -2.08306434e-02,\n",
       "       -5.37150722e-02, -9.75077925e-03, -4.46044868e-02,  3.50373158e-02,\n",
       "        5.37473205e-02,  2.23793560e-02,  3.78368636e-02,  1.91988172e-02,\n",
       "       -9.24861385e-02,  1.07819675e-02, -1.21989548e-02,  3.31418150e-02,\n",
       "        2.23143799e-02,  1.49282608e-02,  1.40205264e-02, -2.72367133e-02,\n",
       "       -2.69449629e-02,  2.49509839e-03, -5.19380664e-02, -6.78124642e-02,\n",
       "       -6.38052975e-02,  1.68222875e-02, -7.74696337e-02,  8.44685482e-02,\n",
       "        4.74610087e-02, -2.62326931e-03, -9.03137206e-03, -6.54254213e-02,\n",
       "        4.35586069e-02,  3.72354283e-02, -3.41950073e-02, -1.16772181e-02,\n",
       "       -3.14856721e-02,  6.10582798e-02,  4.79020393e-02, -4.82062241e-02,\n",
       "       -1.99088580e-02,  3.10592290e-02, -4.53291640e-02, -6.53951182e-02,\n",
       "        6.01363019e-04,  3.27027021e-02,  1.47671076e-02, -3.70643544e-02,\n",
       "       -2.04997172e-02,  5.32348915e-02, -4.50411410e-02,  1.28656339e-02,\n",
       "        3.19320844e-02,  1.45057300e-02, -1.72404865e-02,  3.71150244e-02,\n",
       "       -2.15479551e-02, -1.15545052e-02, -1.25362631e-02,  2.60218652e-02,\n",
       "       -4.58280314e-02,  7.53374584e-03,  7.35389721e-03, -1.82377142e-02,\n",
       "       -9.48007656e-02, -2.56354164e-02,  5.40375593e-04,  4.41152531e-02,\n",
       "       -7.10717402e-04,  4.32135077e-03,  2.78144046e-02, -4.11721691e-03,\n",
       "       -8.98516446e-04,  5.58417288e-02, -3.63211357e-02, -6.08586776e-03,\n",
       "        3.32013650e-02,  3.86003682e-02, -4.08708490e-02,  1.05813891e-02,\n",
       "        1.79253643e-02,  3.97888436e-02,  3.22979216e-02,  1.34046650e-02,\n",
       "       -3.69763831e-02,  3.80074000e-02, -3.84184653e-02, -1.46874161e-02,\n",
       "        1.31309093e-02, -1.08475601e-02,  1.34081137e-02, -1.17426082e-02,\n",
       "        1.28444180e-01, -2.20539912e-02,  1.15903737e-01,  5.90186799e-03,\n",
       "        1.24620628e-02,  7.31505433e-02, -7.99386785e-03,  3.64330948e-02,\n",
       "        3.45786135e-02,  3.46622248e-02,  2.36364873e-03, -7.05305371e-02,\n",
       "       -5.42092409e-02, -8.53608083e-03, -5.25069842e-03, -6.02257324e-02,\n",
       "        2.03989604e-02, -1.16195149e-02,  9.21856882e-02, -6.69648121e-02,\n",
       "        7.29324436e-03,  2.93620190e-02,  6.43402617e-02,  1.59824028e-02,\n",
       "        2.18187862e-02, -1.51119323e-03, -8.90493509e-03, -1.16167957e-01,\n",
       "        3.43116624e-02, -2.22888631e-02,  6.75987527e-02,  2.60055298e-02,\n",
       "       -2.21864720e-02, -2.88950545e-02,  5.87026319e-02,  5.31624537e-05,\n",
       "        4.37127347e-02, -3.44873604e-02,  1.45444367e-02,  4.66503901e-04,\n",
       "        1.16275493e-01, -7.23772724e-02,  3.08836906e-02,  3.09007196e-03,\n",
       "        1.63774043e-02,  1.35315594e-02,  3.91931003e-02, -3.61349685e-02,\n",
       "        8.19852925e-04,  2.57454347e-04,  6.94709985e-03,  1.86907215e-02,\n",
       "       -3.81673360e-03,  1.24494154e-02, -2.23289109e-02, -3.35482652e-02,\n",
       "       -4.22900976e-02,  2.49405606e-02,  4.42143134e-03,  5.85364044e-03,\n",
       "        3.19063303e-03, -4.88638142e-02, -1.23414861e-02, -1.29953995e-02,\n",
       "        1.96110924e-02,  1.76430468e-02,  9.77955939e-03, -1.76622996e-02])"
      ]
     },
     "execution_count": 56,
     "metadata": {},
     "output_type": "execute_result"
    }
   ],
   "source": [
    "x = 'привет всем слушателям курса'\n",
    "get_tweet_embedding(x, model=ft, embedding_size=300)"
   ]
  },
  {
   "cell_type": "code",
   "execution_count": 57,
   "id": "b456c690",
   "metadata": {
    "id": "b456c690",
    "outputId": "476b6ede-da2c-41ce-885d-d413035dc1ce"
   },
   "outputs": [
    {
     "name": "stdout",
     "output_type": "stream",
     "text": [
      "train done\n"
     ]
    }
   ],
   "source": [
    "train['ft_embedding'] = train['lemmas'].apply(lambda x: get_tweet_embedding(x, model=ft, embedding_size=300))\n",
    "print('train done')\n",
    "\n",
    "test['ft_embedding'] = test['lemmas'].apply(lambda x: get_tweet_embedding(x, model=ft, embedding_size=300))"
   ]
  },
  {
   "cell_type": "code",
   "execution_count": 58,
   "id": "8ce51cc2",
   "metadata": {
    "id": "8ce51cc2",
    "outputId": "79fcb2a6-c331-4cc6-cc9a-373f6ae63ce6"
   },
   "outputs": [
    {
     "data": {
      "text/plain": [
       "0.8744989207523898"
      ]
     },
     "execution_count": 58,
     "metadata": {},
     "output_type": "execute_result"
    }
   ],
   "source": [
    "clf = LogisticRegression(random_state=42, max_iter=500)\n",
    "clf.fit(list(train['ft_embedding'].values), y_train)\n",
    "\n",
    "pred = clf.predict(list(test['ft_embedding'].values))\n",
    "accuracy_score(pred, y_test)"
   ]
  },
  {
   "cell_type": "code",
   "execution_count": 59,
   "id": "ec94c142",
   "metadata": {
    "id": "ec94c142",
    "outputId": "9102714c-349e-48d6-8df2-77af56b21cbc"
   },
   "outputs": [
    {
     "name": "stdout",
     "output_type": "stream",
     "text": [
      "              precision    recall  f1-score   support\n",
      "\n",
      "           0       0.95      0.87      0.91      2361\n",
      "           1       0.72      0.89      0.79       882\n",
      "\n",
      "    accuracy                           0.87      3243\n",
      "   macro avg       0.84      0.88      0.85      3243\n",
      "weighted avg       0.89      0.87      0.88      3243\n",
      "\n"
     ]
    }
   ],
   "source": [
    "print(classification_report(pred, y_test))"
   ]
  },
  {
   "cell_type": "markdown",
   "id": "bfc720f5",
   "metadata": {
    "id": "bfc720f5"
   },
   "source": [
    "### fastText как классификатор\n",
    "\n",
    "fastText также можно использовать в режиме классификатора:"
   ]
  },
  {
   "cell_type": "code",
   "execution_count": 60,
   "id": "75b009d0",
   "metadata": {
    "colab": {
     "base_uri": "https://localhost:8080/",
     "height": 81
    },
    "executionInfo": {
     "elapsed": 295,
     "status": "ok",
     "timestamp": 1677948676000,
     "user": {
      "displayName": "Kuroles",
      "userId": "00026309423615117208"
     },
     "user_tz": -180
    },
    "id": "75b009d0",
    "outputId": "a2a4fca1-8388-4136-e049-2e8e4bda04c9"
   },
   "outputs": [
    {
     "data": {
      "text/html": [
       "<div>\n",
       "<style scoped>\n",
       "    .dataframe tbody tr th:only-of-type {\n",
       "        vertical-align: middle;\n",
       "    }\n",
       "\n",
       "    .dataframe tbody tr th {\n",
       "        vertical-align: top;\n",
       "    }\n",
       "\n",
       "    .dataframe thead th {\n",
       "        text-align: right;\n",
       "    }\n",
       "</style>\n",
       "<table border=\"1\" class=\"dataframe\">\n",
       "  <thead>\n",
       "    <tr style=\"text-align: right;\">\n",
       "      <th></th>\n",
       "      <th>comment</th>\n",
       "      <th>toxic</th>\n",
       "      <th>lemmas</th>\n",
       "      <th>w2v_embedding</th>\n",
       "      <th>ft_embedding</th>\n",
       "    </tr>\n",
       "  </thead>\n",
       "  <tbody>\n",
       "    <tr>\n",
       "      <th>1278</th>\n",
       "      <td>Пока мы в России убеждаем друг друга, что ВИЭ ...</td>\n",
       "      <td>0.0</td>\n",
       "      <td>пока россия убеждать друг друг несерьёзно стра...</td>\n",
       "      <td>[0.026844523048826625, 0.015457355417311192, 0...</td>\n",
       "      <td>[0.03609138665099939, -0.018015047017898824, 0...</td>\n",
       "    </tr>\n",
       "  </tbody>\n",
       "</table>\n",
       "</div>"
      ],
      "text/plain": [
       "                                                comment  toxic  \\\n",
       "1278  Пока мы в России убеждаем друг друга, что ВИЭ ...    0.0   \n",
       "\n",
       "                                                 lemmas  \\\n",
       "1278  пока россия убеждать друг друг несерьёзно стра...   \n",
       "\n",
       "                                          w2v_embedding  \\\n",
       "1278  [0.026844523048826625, 0.015457355417311192, 0...   \n",
       "\n",
       "                                           ft_embedding  \n",
       "1278  [0.03609138665099939, -0.018015047017898824, 0...  "
      ]
     },
     "execution_count": 60,
     "metadata": {},
     "output_type": "execute_result"
    }
   ],
   "source": [
    "train.sample()"
   ]
  },
  {
   "cell_type": "code",
   "execution_count": 61,
   "id": "5670c42f",
   "metadata": {
    "executionInfo": {
     "elapsed": 237,
     "status": "ok",
     "timestamp": 1677949084467,
     "user": {
      "displayName": "Kuroles",
      "userId": "00026309423615117208"
     },
     "user_tz": -180
    },
    "id": "5670c42f"
   },
   "outputs": [],
   "source": [
    "with open('train_ft.txt', 'w') as f:\n",
    "    for label, lemmas in list(zip(\n",
    "        train['toxic'], train['lemmas']\n",
    "    )):\n",
    "        f.write(f\"__label__{int(label)} {lemmas}\\n\")\n",
    "        #print(f\"__label__{int(label)} {lemmas}\")\n",
    "\n",
    "with open('test_ft.txt', 'w') as f:\n",
    "    for label, lemmas in list(zip(\n",
    "        y_test, test['lemmas']\n",
    "    )):\n",
    "        f.write(f\"__label__{int(label)} {lemmas}\\n\")"
   ]
  },
  {
   "cell_type": "code",
   "execution_count": 62,
   "id": "40cbd117",
   "metadata": {},
   "outputs": [
    {
     "data": {
      "text/plain": [
       "['__label__1 шовинистический пидоран\\n',\n",
       " '__label__1 долбоести чтол кровать куколд искать\\n',\n",
       " '__label__0 долгий история назвать привести эволюция подпись\\n',\n",
       " '__label__1 продолжить угощать весь говнец пара выпуск хуета александр мочь бабуля живой\\n',\n",
       " '__label__1 похожий въебливый зануда похожий особенно мочь кроме говно интернет кидаться нарушение правило vovkabright\\n']"
      ]
     },
     "execution_count": 62,
     "metadata": {},
     "output_type": "execute_result"
    }
   ],
   "source": [
    "f = open('train_ft.txt', 'r')\n",
    "f.readlines(0)[:5]"
   ]
  },
  {
   "cell_type": "code",
   "execution_count": 63,
   "id": "ceBnbbs8lVx2",
   "metadata": {
    "id": "ceBnbbs8lVx2"
   },
   "outputs": [
    {
     "name": "stdout",
     "output_type": "stream",
     "text": [
      "P@1: 0.8513721862473019\n",
      "R@1: 0.8513721862473019\n",
      "Number of examples: 3243\n"
     ]
    }
   ],
   "source": [
    "classifier = fasttext.train_supervised('train_ft.txt')#, 'model')\n",
    "result = classifier.test('test_ft.txt')\n",
    "print('P@1:', result[1])#.precision)\n",
    "print('R@1:', result[2])#.recall)\n",
    "print('Number of examples:', result[0])#.nexamples)"
   ]
  },
  {
   "cell_type": "code",
   "execution_count": 64,
   "id": "45b6b5bc",
   "metadata": {
    "id": "45b6b5bc",
    "outputId": "28b91aa8-578f-4e91-d880-aa2b759a9aab"
   },
   "outputs": [
    {
     "data": {
      "text/plain": [
       "0.8513721862473019"
      ]
     },
     "execution_count": 64,
     "metadata": {},
     "output_type": "execute_result"
    }
   ],
   "source": [
    "pred = classifier.predict(list(test['lemmas']))[0]\n",
    "pred = [int(label[0][-1]) for label in pred]\n",
    "\n",
    "accuracy_score(list(y_test), pred)"
   ]
  },
  {
   "cell_type": "code",
   "execution_count": null,
   "id": "2a121f45",
   "metadata": {
    "id": "2a121f45"
   },
   "outputs": [],
   "source": []
  }
 ],
 "metadata": {
  "colab": {
   "provenance": []
  },
  "kernelspec": {
   "display_name": "Python 3 (ipykernel)",
   "language": "python",
   "name": "python3"
  },
  "language_info": {
   "codemirror_mode": {
    "name": "ipython",
    "version": 3
   },
   "file_extension": ".py",
   "mimetype": "text/x-python",
   "name": "python",
   "nbconvert_exporter": "python",
   "pygments_lexer": "ipython3",
   "version": "3.9.13"
  },
  "widgets": {
   "application/vnd.jupyter.widget-state+json": {
    "09aee58254064b2e8f5f7b83289bfb8f": {
     "model_module": "@jupyter-widgets/base",
     "model_module_version": "1.2.0",
     "model_name": "LayoutModel",
     "state": {
      "_model_module": "@jupyter-widgets/base",
      "_model_module_version": "1.2.0",
      "_model_name": "LayoutModel",
      "_view_count": null,
      "_view_module": "@jupyter-widgets/base",
      "_view_module_version": "1.2.0",
      "_view_name": "LayoutView",
      "align_content": null,
      "align_items": null,
      "align_self": null,
      "border": null,
      "bottom": null,
      "display": null,
      "flex": null,
      "flex_flow": null,
      "grid_area": null,
      "grid_auto_columns": null,
      "grid_auto_flow": null,
      "grid_auto_rows": null,
      "grid_column": null,
      "grid_gap": null,
      "grid_row": null,
      "grid_template_areas": null,
      "grid_template_columns": null,
      "grid_template_rows": null,
      "height": null,
      "justify_content": null,
      "justify_items": null,
      "left": null,
      "margin": null,
      "max_height": null,
      "max_width": null,
      "min_height": null,
      "min_width": null,
      "object_fit": null,
      "object_position": null,
      "order": null,
      "overflow": null,
      "overflow_x": null,
      "overflow_y": null,
      "padding": null,
      "right": null,
      "top": null,
      "visibility": null,
      "width": null
     }
    },
    "11904d61050048aaa39241e777e092e5": {
     "model_module": "@jupyter-widgets/controls",
     "model_module_version": "1.5.0",
     "model_name": "HTMLModel",
     "state": {
      "_dom_classes": [],
      "_model_module": "@jupyter-widgets/controls",
      "_model_module_version": "1.5.0",
      "_model_name": "HTMLModel",
      "_view_count": null,
      "_view_module": "@jupyter-widgets/controls",
      "_view_module_version": "1.5.0",
      "_view_name": "HTMLView",
      "description": "",
      "description_tooltip": null,
      "layout": "IPY_MODEL_bd3ed94fc21f4edbae592c5605adb283",
      "placeholder": "​",
      "style": "IPY_MODEL_194da73266fb49c8a68847ad7ff0c37c",
      "value": "100%"
     }
    },
    "194da73266fb49c8a68847ad7ff0c37c": {
     "model_module": "@jupyter-widgets/controls",
     "model_module_version": "1.5.0",
     "model_name": "DescriptionStyleModel",
     "state": {
      "_model_module": "@jupyter-widgets/controls",
      "_model_module_version": "1.5.0",
      "_model_name": "DescriptionStyleModel",
      "_view_count": null,
      "_view_module": "@jupyter-widgets/base",
      "_view_module_version": "1.2.0",
      "_view_name": "StyleView",
      "description_width": ""
     }
    },
    "1a50c0205fb449ba95c4747e0e40b45a": {
     "model_module": "@jupyter-widgets/base",
     "model_module_version": "1.2.0",
     "model_name": "LayoutModel",
     "state": {
      "_model_module": "@jupyter-widgets/base",
      "_model_module_version": "1.2.0",
      "_model_name": "LayoutModel",
      "_view_count": null,
      "_view_module": "@jupyter-widgets/base",
      "_view_module_version": "1.2.0",
      "_view_name": "LayoutView",
      "align_content": null,
      "align_items": null,
      "align_self": null,
      "border": null,
      "bottom": null,
      "display": null,
      "flex": null,
      "flex_flow": null,
      "grid_area": null,
      "grid_auto_columns": null,
      "grid_auto_flow": null,
      "grid_auto_rows": null,
      "grid_column": null,
      "grid_gap": null,
      "grid_row": null,
      "grid_template_areas": null,
      "grid_template_columns": null,
      "grid_template_rows": null,
      "height": null,
      "justify_content": null,
      "justify_items": null,
      "left": null,
      "margin": null,
      "max_height": null,
      "max_width": null,
      "min_height": null,
      "min_width": null,
      "object_fit": null,
      "object_position": null,
      "order": null,
      "overflow": null,
      "overflow_x": null,
      "overflow_y": null,
      "padding": null,
      "right": null,
      "top": null,
      "visibility": null,
      "width": null
     }
    },
    "27551a630acb442db5a1d01a9466fd50": {
     "model_module": "@jupyter-widgets/controls",
     "model_module_version": "1.5.0",
     "model_name": "HBoxModel",
     "state": {
      "_dom_classes": [],
      "_model_module": "@jupyter-widgets/controls",
      "_model_module_version": "1.5.0",
      "_model_name": "HBoxModel",
      "_view_count": null,
      "_view_module": "@jupyter-widgets/controls",
      "_view_module_version": "1.5.0",
      "_view_name": "HBoxView",
      "box_style": "",
      "children": [
       "IPY_MODEL_11904d61050048aaa39241e777e092e5",
       "IPY_MODEL_4cafd09c534a46bd8747f7facfacb8c1",
       "IPY_MODEL_b878e9d686e94f34990044019ddf7ab0"
      ],
      "layout": "IPY_MODEL_85c522dab0a34b588a4545f18b0ace37"
     }
    },
    "28018968de984a81b29876dab4b936d4": {
     "model_module": "@jupyter-widgets/base",
     "model_module_version": "1.2.0",
     "model_name": "LayoutModel",
     "state": {
      "_model_module": "@jupyter-widgets/base",
      "_model_module_version": "1.2.0",
      "_model_name": "LayoutModel",
      "_view_count": null,
      "_view_module": "@jupyter-widgets/base",
      "_view_module_version": "1.2.0",
      "_view_name": "LayoutView",
      "align_content": null,
      "align_items": null,
      "align_self": null,
      "border": null,
      "bottom": null,
      "display": null,
      "flex": null,
      "flex_flow": null,
      "grid_area": null,
      "grid_auto_columns": null,
      "grid_auto_flow": null,
      "grid_auto_rows": null,
      "grid_column": null,
      "grid_gap": null,
      "grid_row": null,
      "grid_template_areas": null,
      "grid_template_columns": null,
      "grid_template_rows": null,
      "height": null,
      "justify_content": null,
      "justify_items": null,
      "left": null,
      "margin": null,
      "max_height": null,
      "max_width": null,
      "min_height": null,
      "min_width": null,
      "object_fit": null,
      "object_position": null,
      "order": null,
      "overflow": null,
      "overflow_x": null,
      "overflow_y": null,
      "padding": null,
      "right": null,
      "top": null,
      "visibility": null,
      "width": null
     }
    },
    "2a6d0ee17f2640bb8ff9bcf34b331126": {
     "model_module": "@jupyter-widgets/controls",
     "model_module_version": "1.5.0",
     "model_name": "DescriptionStyleModel",
     "state": {
      "_model_module": "@jupyter-widgets/controls",
      "_model_module_version": "1.5.0",
      "_model_name": "DescriptionStyleModel",
      "_view_count": null,
      "_view_module": "@jupyter-widgets/base",
      "_view_module_version": "1.2.0",
      "_view_name": "StyleView",
      "description_width": ""
     }
    },
    "3cd26e57cf604a44807e6ab138b01f5d": {
     "model_module": "@jupyter-widgets/controls",
     "model_module_version": "1.5.0",
     "model_name": "ProgressStyleModel",
     "state": {
      "_model_module": "@jupyter-widgets/controls",
      "_model_module_version": "1.5.0",
      "_model_name": "ProgressStyleModel",
      "_view_count": null,
      "_view_module": "@jupyter-widgets/base",
      "_view_module_version": "1.2.0",
      "_view_name": "StyleView",
      "bar_color": null,
      "description_width": ""
     }
    },
    "46cb1ca73cff476299b99af8f43eb1db": {
     "model_module": "@jupyter-widgets/base",
     "model_module_version": "1.2.0",
     "model_name": "LayoutModel",
     "state": {
      "_model_module": "@jupyter-widgets/base",
      "_model_module_version": "1.2.0",
      "_model_name": "LayoutModel",
      "_view_count": null,
      "_view_module": "@jupyter-widgets/base",
      "_view_module_version": "1.2.0",
      "_view_name": "LayoutView",
      "align_content": null,
      "align_items": null,
      "align_self": null,
      "border": null,
      "bottom": null,
      "display": null,
      "flex": null,
      "flex_flow": null,
      "grid_area": null,
      "grid_auto_columns": null,
      "grid_auto_flow": null,
      "grid_auto_rows": null,
      "grid_column": null,
      "grid_gap": null,
      "grid_row": null,
      "grid_template_areas": null,
      "grid_template_columns": null,
      "grid_template_rows": null,
      "height": null,
      "justify_content": null,
      "justify_items": null,
      "left": null,
      "margin": null,
      "max_height": null,
      "max_width": null,
      "min_height": null,
      "min_width": null,
      "object_fit": null,
      "object_position": null,
      "order": null,
      "overflow": null,
      "overflow_x": null,
      "overflow_y": null,
      "padding": null,
      "right": null,
      "top": null,
      "visibility": null,
      "width": null
     }
    },
    "4cafd09c534a46bd8747f7facfacb8c1": {
     "model_module": "@jupyter-widgets/controls",
     "model_module_version": "1.5.0",
     "model_name": "FloatProgressModel",
     "state": {
      "_dom_classes": [],
      "_model_module": "@jupyter-widgets/controls",
      "_model_module_version": "1.5.0",
      "_model_name": "FloatProgressModel",
      "_view_count": null,
      "_view_module": "@jupyter-widgets/controls",
      "_view_module_version": "1.5.0",
      "_view_name": "ProgressView",
      "bar_style": "success",
      "description": "",
      "description_tooltip": null,
      "layout": "IPY_MODEL_ef48780ebe0b458089770b681616a3c8",
      "max": 7566,
      "min": 0,
      "orientation": "horizontal",
      "style": "IPY_MODEL_3cd26e57cf604a44807e6ab138b01f5d",
      "value": 7566
     }
    },
    "50ddcc754e79428aaf6d56f34b51d54f": {
     "model_module": "@jupyter-widgets/controls",
     "model_module_version": "1.5.0",
     "model_name": "DescriptionStyleModel",
     "state": {
      "_model_module": "@jupyter-widgets/controls",
      "_model_module_version": "1.5.0",
      "_model_name": "DescriptionStyleModel",
      "_view_count": null,
      "_view_module": "@jupyter-widgets/base",
      "_view_module_version": "1.2.0",
      "_view_name": "StyleView",
      "description_width": ""
     }
    },
    "5d7471db41b743e588c4f1b6da3a005b": {
     "model_module": "@jupyter-widgets/controls",
     "model_module_version": "1.5.0",
     "model_name": "FloatProgressModel",
     "state": {
      "_dom_classes": [],
      "_model_module": "@jupyter-widgets/controls",
      "_model_module_version": "1.5.0",
      "_model_name": "FloatProgressModel",
      "_view_count": null,
      "_view_module": "@jupyter-widgets/controls",
      "_view_module_version": "1.5.0",
      "_view_name": "ProgressView",
      "bar_style": "success",
      "description": "",
      "description_tooltip": null,
      "layout": "IPY_MODEL_46cb1ca73cff476299b99af8f43eb1db",
      "max": 3243,
      "min": 0,
      "orientation": "horizontal",
      "style": "IPY_MODEL_67c28a5adcbc4530aad7da1c30879923",
      "value": 3243
     }
    },
    "67c28a5adcbc4530aad7da1c30879923": {
     "model_module": "@jupyter-widgets/controls",
     "model_module_version": "1.5.0",
     "model_name": "ProgressStyleModel",
     "state": {
      "_model_module": "@jupyter-widgets/controls",
      "_model_module_version": "1.5.0",
      "_model_name": "ProgressStyleModel",
      "_view_count": null,
      "_view_module": "@jupyter-widgets/base",
      "_view_module_version": "1.2.0",
      "_view_name": "StyleView",
      "bar_color": null,
      "description_width": ""
     }
    },
    "7054473cee7d4c519f17582d89391e29": {
     "model_module": "@jupyter-widgets/controls",
     "model_module_version": "1.5.0",
     "model_name": "HTMLModel",
     "state": {
      "_dom_classes": [],
      "_model_module": "@jupyter-widgets/controls",
      "_model_module_version": "1.5.0",
      "_model_name": "HTMLModel",
      "_view_count": null,
      "_view_module": "@jupyter-widgets/controls",
      "_view_module_version": "1.5.0",
      "_view_name": "HTMLView",
      "description": "",
      "description_tooltip": null,
      "layout": "IPY_MODEL_1a50c0205fb449ba95c4747e0e40b45a",
      "placeholder": "​",
      "style": "IPY_MODEL_f328d1da696b429383ecd24b13b41f1a",
      "value": "100%"
     }
    },
    "85c522dab0a34b588a4545f18b0ace37": {
     "model_module": "@jupyter-widgets/base",
     "model_module_version": "1.2.0",
     "model_name": "LayoutModel",
     "state": {
      "_model_module": "@jupyter-widgets/base",
      "_model_module_version": "1.2.0",
      "_model_name": "LayoutModel",
      "_view_count": null,
      "_view_module": "@jupyter-widgets/base",
      "_view_module_version": "1.2.0",
      "_view_name": "LayoutView",
      "align_content": null,
      "align_items": null,
      "align_self": null,
      "border": null,
      "bottom": null,
      "display": null,
      "flex": null,
      "flex_flow": null,
      "grid_area": null,
      "grid_auto_columns": null,
      "grid_auto_flow": null,
      "grid_auto_rows": null,
      "grid_column": null,
      "grid_gap": null,
      "grid_row": null,
      "grid_template_areas": null,
      "grid_template_columns": null,
      "grid_template_rows": null,
      "height": null,
      "justify_content": null,
      "justify_items": null,
      "left": null,
      "margin": null,
      "max_height": null,
      "max_width": null,
      "min_height": null,
      "min_width": null,
      "object_fit": null,
      "object_position": null,
      "order": null,
      "overflow": null,
      "overflow_x": null,
      "overflow_y": null,
      "padding": null,
      "right": null,
      "top": null,
      "visibility": null,
      "width": null
     }
    },
    "b878e9d686e94f34990044019ddf7ab0": {
     "model_module": "@jupyter-widgets/controls",
     "model_module_version": "1.5.0",
     "model_name": "HTMLModel",
     "state": {
      "_dom_classes": [],
      "_model_module": "@jupyter-widgets/controls",
      "_model_module_version": "1.5.0",
      "_model_name": "HTMLModel",
      "_view_count": null,
      "_view_module": "@jupyter-widgets/controls",
      "_view_module_version": "1.5.0",
      "_view_name": "HTMLView",
      "description": "",
      "description_tooltip": null,
      "layout": "IPY_MODEL_df08d11ee5e949e5a33c51c803025528",
      "placeholder": "​",
      "style": "IPY_MODEL_50ddcc754e79428aaf6d56f34b51d54f",
      "value": " 7566/7566 [01:16&lt;00:00, 111.76it/s]"
     }
    },
    "bd3ed94fc21f4edbae592c5605adb283": {
     "model_module": "@jupyter-widgets/base",
     "model_module_version": "1.2.0",
     "model_name": "LayoutModel",
     "state": {
      "_model_module": "@jupyter-widgets/base",
      "_model_module_version": "1.2.0",
      "_model_name": "LayoutModel",
      "_view_count": null,
      "_view_module": "@jupyter-widgets/base",
      "_view_module_version": "1.2.0",
      "_view_name": "LayoutView",
      "align_content": null,
      "align_items": null,
      "align_self": null,
      "border": null,
      "bottom": null,
      "display": null,
      "flex": null,
      "flex_flow": null,
      "grid_area": null,
      "grid_auto_columns": null,
      "grid_auto_flow": null,
      "grid_auto_rows": null,
      "grid_column": null,
      "grid_gap": null,
      "grid_row": null,
      "grid_template_areas": null,
      "grid_template_columns": null,
      "grid_template_rows": null,
      "height": null,
      "justify_content": null,
      "justify_items": null,
      "left": null,
      "margin": null,
      "max_height": null,
      "max_width": null,
      "min_height": null,
      "min_width": null,
      "object_fit": null,
      "object_position": null,
      "order": null,
      "overflow": null,
      "overflow_x": null,
      "overflow_y": null,
      "padding": null,
      "right": null,
      "top": null,
      "visibility": null,
      "width": null
     }
    },
    "c6697c4a083941428ad013b31c3be18a": {
     "model_module": "@jupyter-widgets/controls",
     "model_module_version": "1.5.0",
     "model_name": "HTMLModel",
     "state": {
      "_dom_classes": [],
      "_model_module": "@jupyter-widgets/controls",
      "_model_module_version": "1.5.0",
      "_model_name": "HTMLModel",
      "_view_count": null,
      "_view_module": "@jupyter-widgets/controls",
      "_view_module_version": "1.5.0",
      "_view_name": "HTMLView",
      "description": "",
      "description_tooltip": null,
      "layout": "IPY_MODEL_28018968de984a81b29876dab4b936d4",
      "placeholder": "​",
      "style": "IPY_MODEL_2a6d0ee17f2640bb8ff9bcf34b331126",
      "value": " 3243/3243 [00:54&lt;00:00, 103.15it/s]"
     }
    },
    "df08d11ee5e949e5a33c51c803025528": {
     "model_module": "@jupyter-widgets/base",
     "model_module_version": "1.2.0",
     "model_name": "LayoutModel",
     "state": {
      "_model_module": "@jupyter-widgets/base",
      "_model_module_version": "1.2.0",
      "_model_name": "LayoutModel",
      "_view_count": null,
      "_view_module": "@jupyter-widgets/base",
      "_view_module_version": "1.2.0",
      "_view_name": "LayoutView",
      "align_content": null,
      "align_items": null,
      "align_self": null,
      "border": null,
      "bottom": null,
      "display": null,
      "flex": null,
      "flex_flow": null,
      "grid_area": null,
      "grid_auto_columns": null,
      "grid_auto_flow": null,
      "grid_auto_rows": null,
      "grid_column": null,
      "grid_gap": null,
      "grid_row": null,
      "grid_template_areas": null,
      "grid_template_columns": null,
      "grid_template_rows": null,
      "height": null,
      "justify_content": null,
      "justify_items": null,
      "left": null,
      "margin": null,
      "max_height": null,
      "max_width": null,
      "min_height": null,
      "min_width": null,
      "object_fit": null,
      "object_position": null,
      "order": null,
      "overflow": null,
      "overflow_x": null,
      "overflow_y": null,
      "padding": null,
      "right": null,
      "top": null,
      "visibility": null,
      "width": null
     }
    },
    "ef48780ebe0b458089770b681616a3c8": {
     "model_module": "@jupyter-widgets/base",
     "model_module_version": "1.2.0",
     "model_name": "LayoutModel",
     "state": {
      "_model_module": "@jupyter-widgets/base",
      "_model_module_version": "1.2.0",
      "_model_name": "LayoutModel",
      "_view_count": null,
      "_view_module": "@jupyter-widgets/base",
      "_view_module_version": "1.2.0",
      "_view_name": "LayoutView",
      "align_content": null,
      "align_items": null,
      "align_self": null,
      "border": null,
      "bottom": null,
      "display": null,
      "flex": null,
      "flex_flow": null,
      "grid_area": null,
      "grid_auto_columns": null,
      "grid_auto_flow": null,
      "grid_auto_rows": null,
      "grid_column": null,
      "grid_gap": null,
      "grid_row": null,
      "grid_template_areas": null,
      "grid_template_columns": null,
      "grid_template_rows": null,
      "height": null,
      "justify_content": null,
      "justify_items": null,
      "left": null,
      "margin": null,
      "max_height": null,
      "max_width": null,
      "min_height": null,
      "min_width": null,
      "object_fit": null,
      "object_position": null,
      "order": null,
      "overflow": null,
      "overflow_x": null,
      "overflow_y": null,
      "padding": null,
      "right": null,
      "top": null,
      "visibility": null,
      "width": null
     }
    },
    "f328d1da696b429383ecd24b13b41f1a": {
     "model_module": "@jupyter-widgets/controls",
     "model_module_version": "1.5.0",
     "model_name": "DescriptionStyleModel",
     "state": {
      "_model_module": "@jupyter-widgets/controls",
      "_model_module_version": "1.5.0",
      "_model_name": "DescriptionStyleModel",
      "_view_count": null,
      "_view_module": "@jupyter-widgets/base",
      "_view_module_version": "1.2.0",
      "_view_name": "StyleView",
      "description_width": ""
     }
    },
    "fa9316aa0f274bed8cf8053279b95749": {
     "model_module": "@jupyter-widgets/controls",
     "model_module_version": "1.5.0",
     "model_name": "HBoxModel",
     "state": {
      "_dom_classes": [],
      "_model_module": "@jupyter-widgets/controls",
      "_model_module_version": "1.5.0",
      "_model_name": "HBoxModel",
      "_view_count": null,
      "_view_module": "@jupyter-widgets/controls",
      "_view_module_version": "1.5.0",
      "_view_name": "HBoxView",
      "box_style": "",
      "children": [
       "IPY_MODEL_7054473cee7d4c519f17582d89391e29",
       "IPY_MODEL_5d7471db41b743e588c4f1b6da3a005b",
       "IPY_MODEL_c6697c4a083941428ad013b31c3be18a"
      ],
      "layout": "IPY_MODEL_09aee58254064b2e8f5f7b83289bfb8f"
     }
    }
   }
  }
 },
 "nbformat": 4,
 "nbformat_minor": 5
}
